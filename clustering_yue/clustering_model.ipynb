{
 "cells": [
  {
   "cell_type": "markdown",
   "metadata": {},
   "source": [
    "# Clustering Model using K-Modes Algorithm"
   ]
  },
  {
   "cell_type": "code",
   "execution_count": 223,
   "metadata": {},
   "outputs": [],
   "source": [
    "import kmodes\n",
    "from kmodes import kmodes\n",
    "from datetime import datetime\n",
    "from sklearn import preprocessing\n",
    "from kmodes.kmodes import KModes\n",
    "\n",
    "import pandas as pd\n",
    "import numpy as np\n",
    "import sqlite3\n",
    "\n",
    "import chart_studio.plotly as py\n",
    "import plotly.graph_objs as go\n",
    "import plotly.express as px\n",
    "\n",
    "import missingno as mn\n",
    "\n",
    "pd.set_option('display.max_columns', None)\n",
    "pd.set_option('display.max_rows', 100)"
   ]
  },
  {
   "cell_type": "markdown",
   "metadata": {},
   "source": [
    "## Preprocess Data (OneHeatEncoding, Join Tables)"
   ]
  },
  {
   "cell_type": "markdown",
   "metadata": {},
   "source": [
    "### load in data"
   ]
  },
  {
   "cell_type": "code",
   "execution_count": 79,
   "metadata": {},
   "outputs": [],
   "source": [
    "conn = sqlite3.connect('covid_trials.db')\n",
    "trial_info=pd.read_sql(\"select * from trial_info\", con = conn)\n",
    "study_designs=pd.read_sql(\"select * from study_designs\", con = conn)\n",
    "interventions=pd.read_sql(\"select * from interventions\", con = conn)\n",
    "outcome_measures=pd.read_sql(\"select * from outcome_measures\", con = conn)\n",
    "sponsor_collaborators=pd.read_sql(\"select * from sponsor_collaborators\", con = conn)\n",
    "funded_bys=pd.read_sql(\"select * from funded_bys\", con = conn)\n",
    "study_type=pd.read_sql(\"select * from study_type\", con = conn)\n",
    "conn.close()"
   ]
  },
  {
   "cell_type": "markdown",
   "metadata": {},
   "source": [
    "### `trial_info` as `df`"
   ]
  },
  {
   "cell_type": "code",
   "execution_count": 80,
   "metadata": {},
   "outputs": [],
   "source": [
    "# Preprocessing data\n",
    "\n",
    "df = trial_info.copy()\n",
    "\n",
    "## age\n",
    "df['Age'] = df.Age.str.extract(r'[(](.*?)[)]')\n",
    "\n",
    "## date\n",
    "date_columns = ['Start Date',                       \n",
    "                'Completion Date',\n",
    "                'First Posted',\n",
    "                'Last Update Posted' ]\n",
    "\n",
    "def rep_m(m):\n",
    "    months = [\"January\", \"February\", \"March\", \"April\", \"May\", \"June\", \"July\", \n",
    "              \"August\", \"September\", \"October\", \"November\", \"December\"]\n",
    "    months = [x.upper() for x in months]\n",
    "    for i in months:\n",
    "        if m == i:\n",
    "            m = months.index(i) + 1\n",
    "    return str(m)\n",
    "\n",
    "def to_date(date_str):\n",
    "    if date_str == \"NAN NAN\":\n",
    "        return np.nan\n",
    "    else:\n",
    "        date_str = date_str.split()\n",
    "        Y = date_str[1]\n",
    "        m = rep_m(date_str[0])\n",
    "\n",
    "        date = datetime.strptime(Y + \"-\" + m, \"%Y-%m\")\n",
    "\n",
    "        return date\n",
    "\n",
    "\n",
    "df[date_columns] = df[date_columns].applymap(to_date)\n",
    "\n",
    "## trial duration\n",
    "def get_interval_day(arrLike, start, end):   \n",
    "    start_date = arrLike[start]\n",
    "    end_date = arrLike[end]\n",
    "\n",
    "    return (end_date - start_date).days\n",
    "\n",
    "# https://blog.csdn.net/u010339879/article/details/79505570\n",
    "def month_delta(start_date, end_date):\n",
    "    flag = True\n",
    "    if start_date > end_date:\n",
    "        start_date, end_date = end_date, start_date\n",
    "        flag = False\n",
    "    year_diff = end_date.year - start_date.year\n",
    "    end_month = year_diff * 12 + end_date.month\n",
    "    delta = end_month - start_date.month\n",
    "    return -delta if flag is False else delta\n",
    "\n",
    "\n",
    "def get_interval_month(arrLike, start, end):   \n",
    "    start_date = arrLike[start]\n",
    "    end_date = arrLike[end]\n",
    "\n",
    "    return month_delta(start_date, end_date)\n",
    "\n",
    "df['Trial_Duration_Days'] = df.apply(\n",
    "    get_interval_day, axis=1, args=('Start Date', 'Completion Date'))\n",
    "\n",
    "df['Trial_Duration_Months'] = df.apply(\n",
    "    get_interval_month, axis=1, args=('Start Date', 'Completion Date'))"
   ]
  },
  {
   "cell_type": "code",
   "execution_count": 81,
   "metadata": {},
   "outputs": [],
   "source": [
    "# ## categorize duration\n",
    "# def cate_duration(duration):\n",
    "#     if duration < 1:\n",
    "#         return 'less then 1 month'\n",
    "#     elif duration <= 3:\n",
    "#         return '1 - 3 months'\n",
    "#     elif duration <= 6:\n",
    "#         return '4 - 6 months'\n",
    "#     elif duration <= 12:\n",
    "#         return '7 - 12 months'\n",
    "#     elif duration <= 24:\n",
    "#         return '1 - 2 years'\n",
    "#     elif duration <= 60:\n",
    "#         return '2 - 5 years'\n",
    "#     elif duration <= 120:\n",
    "#         return '5 - 10 years'\n",
    "#     else:\n",
    "#         return 'over 10 years'\n",
    "\n",
    "# df[\"Trial_Duration_Category\"] = df.Trial_Duration_Months.apply(cate_duration)\n",
    "\n",
    "# ## categorize enrollment\n",
    "# def cate_eroll(enroll):\n",
    "#     if enroll < 10:\n",
    "#         return 'less then 10'\n",
    "#     elif enroll <= 50:\n",
    "#         return '11 - 50'\n",
    "#     elif enroll <= 100:\n",
    "#         return '51 - 100'\n",
    "#     elif enroll <= 200:\n",
    "#         return '101 - 200'\n",
    "#     elif enroll <= 500:\n",
    "#         return '201 - 500'\n",
    "#     elif enroll <= 1000:\n",
    "#         return '501 - 1000'\n",
    "#     elif enroll <= 5000:\n",
    "#         return '1001 - 5000'\n",
    "#     elif enroll <= 10000:\n",
    "#         return '5001 - 10000'\n",
    "#     else:\n",
    "#         return 'over 10000'  \n",
    "\n",
    "# df[\"Enrollment_Category\"] = df.Enrollment.apply(cate_eroll)"
   ]
  },
  {
   "cell_type": "code",
   "execution_count": 82,
   "metadata": {},
   "outputs": [],
   "source": [
    "df[\"Trial_Duration_Category\"] = pd.cut(df.Trial_Duration_Months,\n",
    "                                      [-float('inf'),0,3,6,12,24,60,120,float('inf')],\n",
    "                                      labels=['less then 1 month','1 - 3 months','4 - 6 months','7 - 12 months',\n",
    "                                              '1 - 2 years','2 - 5 years','5 - 10 years','over 10 years'])\n",
    "df[\"Enrollment_Category\"] = pd.cut(df.Enrollment,\n",
    "                                  [-float('inf'),9,50,100,200,500,1000,5000,10000,float('inf')],\n",
    "                                  labels=['less then 10','11 - 50','51 - 100','101 - 200',\n",
    "                                          '201 - 500','501 - 1000','1001 - 5000','5001 - 10000','over 10000'])"
   ]
  },
  {
   "cell_type": "code",
   "execution_count": 89,
   "metadata": {
    "scrolled": true
   },
   "outputs": [],
   "source": [
    "df[\"Study Type\"] = (\n",
    "    df[\"Study Type\"].\n",
    "    replace({\"TREATMENT IND/PROTOCOL\":\"EXPANDED ACCESS\",\n",
    "             \"INTERMEDIATE-SIZE POPULATION\":\"EXPANDED ACCESS\",})\n",
    "    .replace(regex={r'EXPANDED ACCESS:.*':\"EXPANDED ACCESS\"})\n",
    ")"
   ]
  },
  {
   "cell_type": "code",
   "execution_count": 105,
   "metadata": {},
   "outputs": [
    {
     "data": {
      "text/plain": [
       "INTERVENTIONAL     2187\n",
       "OBSERVATIONAL      1635\n",
       "EXPANDED ACCESS      27\n",
       "Name: Study Type, dtype: int64"
      ]
     },
     "execution_count": 105,
     "metadata": {},
     "output_type": "execute_result"
    }
   ],
   "source": [
    "df[\"Study Type\"].value_counts()"
   ]
  },
  {
   "cell_type": "code",
   "execution_count": 90,
   "metadata": {
    "scrolled": true
   },
   "outputs": [
    {
     "data": {
      "text/html": [
       "<div>\n",
       "<style scoped>\n",
       "    .dataframe tbody tr th:only-of-type {\n",
       "        vertical-align: middle;\n",
       "    }\n",
       "\n",
       "    .dataframe tbody tr th {\n",
       "        vertical-align: top;\n",
       "    }\n",
       "\n",
       "    .dataframe thead th {\n",
       "        text-align: right;\n",
       "    }\n",
       "</style>\n",
       "<table border=\"1\" class=\"dataframe\">\n",
       "  <thead>\n",
       "    <tr style=\"text-align: right;\">\n",
       "      <th></th>\n",
       "      <th>NCT Number</th>\n",
       "      <th>PARTICIPANT</th>\n",
       "      <th>CARE PROVIDER</th>\n",
       "      <th>INVESTIGATOR</th>\n",
       "      <th>OUTCOMES ASSESSOR</th>\n",
       "    </tr>\n",
       "  </thead>\n",
       "  <tbody>\n",
       "    <tr>\n",
       "      <th>0</th>\n",
       "      <td>NCT04372602</td>\n",
       "      <td>True</td>\n",
       "      <td>True</td>\n",
       "      <td>True</td>\n",
       "      <td>False</td>\n",
       "    </tr>\n",
       "    <tr>\n",
       "      <th>1</th>\n",
       "      <td>NCT04364698</td>\n",
       "      <td>False</td>\n",
       "      <td>False</td>\n",
       "      <td>False</td>\n",
       "      <td>False</td>\n",
       "    </tr>\n",
       "    <tr>\n",
       "      <th>2</th>\n",
       "      <td>NCT04482621</td>\n",
       "      <td>True</td>\n",
       "      <td>False</td>\n",
       "      <td>True</td>\n",
       "      <td>False</td>\n",
       "    </tr>\n",
       "    <tr>\n",
       "      <th>3</th>\n",
       "      <td>NCT04459637</td>\n",
       "      <td>False</td>\n",
       "      <td>False</td>\n",
       "      <td>False</td>\n",
       "      <td>False</td>\n",
       "    </tr>\n",
       "    <tr>\n",
       "      <th>4</th>\n",
       "      <td>NCT04425538</td>\n",
       "      <td>False</td>\n",
       "      <td>False</td>\n",
       "      <td>False</td>\n",
       "      <td>False</td>\n",
       "    </tr>\n",
       "    <tr>\n",
       "      <th>...</th>\n",
       "      <td>...</td>\n",
       "      <td>...</td>\n",
       "      <td>...</td>\n",
       "      <td>...</td>\n",
       "      <td>...</td>\n",
       "    </tr>\n",
       "    <tr>\n",
       "      <th>3844</th>\n",
       "      <td>NCT04589923</td>\n",
       "      <td>False</td>\n",
       "      <td>False</td>\n",
       "      <td>False</td>\n",
       "      <td>False</td>\n",
       "    </tr>\n",
       "    <tr>\n",
       "      <th>3845</th>\n",
       "      <td>NCT03871491</td>\n",
       "      <td>True</td>\n",
       "      <td>True</td>\n",
       "      <td>True</td>\n",
       "      <td>False</td>\n",
       "    </tr>\n",
       "    <tr>\n",
       "      <th>3846</th>\n",
       "      <td>NCT04386876</td>\n",
       "      <td>False</td>\n",
       "      <td>False</td>\n",
       "      <td>False</td>\n",
       "      <td>False</td>\n",
       "    </tr>\n",
       "    <tr>\n",
       "      <th>3847</th>\n",
       "      <td>NCT04276987</td>\n",
       "      <td>False</td>\n",
       "      <td>False</td>\n",
       "      <td>False</td>\n",
       "      <td>False</td>\n",
       "    </tr>\n",
       "    <tr>\n",
       "      <th>3848</th>\n",
       "      <td>NCT03474965</td>\n",
       "      <td>False</td>\n",
       "      <td>False</td>\n",
       "      <td>False</td>\n",
       "      <td>False</td>\n",
       "    </tr>\n",
       "  </tbody>\n",
       "</table>\n",
       "<p>3849 rows × 5 columns</p>\n",
       "</div>"
      ],
      "text/plain": [
       "       NCT Number  PARTICIPANT  CARE PROVIDER  INVESTIGATOR  OUTCOMES ASSESSOR\n",
       "0     NCT04372602         True           True          True              False\n",
       "1     NCT04364698        False          False         False              False\n",
       "2     NCT04482621         True          False          True              False\n",
       "3     NCT04459637        False          False         False              False\n",
       "4     NCT04425538        False          False         False              False\n",
       "...           ...          ...            ...           ...                ...\n",
       "3844  NCT04589923        False          False         False              False\n",
       "3845  NCT03871491         True           True          True              False\n",
       "3846  NCT04386876        False          False         False              False\n",
       "3847  NCT04276987        False          False         False              False\n",
       "3848  NCT03474965        False          False         False              False\n",
       "\n",
       "[3849 rows x 5 columns]"
      ]
     },
     "execution_count": 90,
     "metadata": {},
     "output_type": "execute_result"
    }
   ],
   "source": [
    "mask_cols = [\"PARTICIPANT\", \"CARE PROVIDER\", \"INVESTIGATOR\", \"OUTCOMES ASSESSOR\"]\n",
    "mask = study_designs[[\"NCT Number\", \"MASKING\"]].replace({np.nan:\"\"})\n",
    "for col in mask_cols:\n",
    "    mask[col] = [col in mask.MASKING[i] for i in range(mask.MASKING.size)]\n",
    "mask.drop(columns=\"MASKING\", inplace=True)\n",
    "mask"
   ]
  },
  {
   "cell_type": "markdown",
   "metadata": {},
   "source": [
    "### `study_designs` without \"MASKING\""
   ]
  },
  {
   "cell_type": "code",
   "execution_count": 55,
   "metadata": {
    "scrolled": true
   },
   "outputs": [
    {
     "data": {
      "text/html": [
       "<div>\n",
       "<style scoped>\n",
       "    .dataframe tbody tr th:only-of-type {\n",
       "        vertical-align: middle;\n",
       "    }\n",
       "\n",
       "    .dataframe tbody tr th {\n",
       "        vertical-align: top;\n",
       "    }\n",
       "\n",
       "    .dataframe thead th {\n",
       "        text-align: right;\n",
       "    }\n",
       "</style>\n",
       "<table border=\"1\" class=\"dataframe\">\n",
       "  <thead>\n",
       "    <tr style=\"text-align: right;\">\n",
       "      <th></th>\n",
       "      <th>NCT Number</th>\n",
       "      <th>ALLOCATION</th>\n",
       "      <th>INTERVENTION MODEL</th>\n",
       "      <th>PRIMARY PURPOSE</th>\n",
       "      <th>OBSERVATIONAL MODEL</th>\n",
       "      <th>TIME PERSPECTIVE</th>\n",
       "    </tr>\n",
       "  </thead>\n",
       "  <tbody>\n",
       "    <tr>\n",
       "      <th>0</th>\n",
       "      <td>NCT04372602</td>\n",
       "      <td>RANDOMIZED</td>\n",
       "      <td>SINGLE GROUP ASSIGNMENT</td>\n",
       "      <td>TREATMENT</td>\n",
       "      <td>None</td>\n",
       "      <td>None</td>\n",
       "    </tr>\n",
       "    <tr>\n",
       "      <th>1</th>\n",
       "      <td>NCT04364698</td>\n",
       "      <td>None</td>\n",
       "      <td>None</td>\n",
       "      <td>None</td>\n",
       "      <td>COHORT</td>\n",
       "      <td>PROSPECTIVE</td>\n",
       "    </tr>\n",
       "    <tr>\n",
       "      <th>2</th>\n",
       "      <td>NCT04482621</td>\n",
       "      <td>RANDOMIZED</td>\n",
       "      <td>PARALLEL ASSIGNMENT</td>\n",
       "      <td>TREATMENT</td>\n",
       "      <td>None</td>\n",
       "      <td>None</td>\n",
       "    </tr>\n",
       "    <tr>\n",
       "      <th>3</th>\n",
       "      <td>NCT04459637</td>\n",
       "      <td>None</td>\n",
       "      <td>None</td>\n",
       "      <td>None</td>\n",
       "      <td>COHORT</td>\n",
       "      <td>PROSPECTIVE</td>\n",
       "    </tr>\n",
       "    <tr>\n",
       "      <th>4</th>\n",
       "      <td>NCT04425538</td>\n",
       "      <td>None</td>\n",
       "      <td>SINGLE GROUP ASSIGNMENT</td>\n",
       "      <td>TREATMENT</td>\n",
       "      <td>None</td>\n",
       "      <td>None</td>\n",
       "    </tr>\n",
       "    <tr>\n",
       "      <th>...</th>\n",
       "      <td>...</td>\n",
       "      <td>...</td>\n",
       "      <td>...</td>\n",
       "      <td>...</td>\n",
       "      <td>...</td>\n",
       "      <td>...</td>\n",
       "    </tr>\n",
       "    <tr>\n",
       "      <th>3844</th>\n",
       "      <td>NCT04589923</td>\n",
       "      <td>None</td>\n",
       "      <td>None</td>\n",
       "      <td>None</td>\n",
       "      <td>COHORT</td>\n",
       "      <td>PROSPECTIVE</td>\n",
       "    </tr>\n",
       "    <tr>\n",
       "      <th>3845</th>\n",
       "      <td>NCT03871491</td>\n",
       "      <td>RANDOMIZED</td>\n",
       "      <td>PARALLEL ASSIGNMENT</td>\n",
       "      <td>PREVENTION</td>\n",
       "      <td>None</td>\n",
       "      <td>None</td>\n",
       "    </tr>\n",
       "    <tr>\n",
       "      <th>3846</th>\n",
       "      <td>NCT04386876</td>\n",
       "      <td>RANDOMIZED</td>\n",
       "      <td>CROSSOVER ASSIGNMENT</td>\n",
       "      <td>OTHER</td>\n",
       "      <td>None</td>\n",
       "      <td>None</td>\n",
       "    </tr>\n",
       "    <tr>\n",
       "      <th>3847</th>\n",
       "      <td>NCT04276987</td>\n",
       "      <td>None</td>\n",
       "      <td>SINGLE GROUP ASSIGNMENT</td>\n",
       "      <td>TREATMENT</td>\n",
       "      <td>None</td>\n",
       "      <td>None</td>\n",
       "    </tr>\n",
       "    <tr>\n",
       "      <th>3848</th>\n",
       "      <td>NCT03474965</td>\n",
       "      <td>None</td>\n",
       "      <td>SINGLE GROUP ASSIGNMENT</td>\n",
       "      <td>TREATMENT</td>\n",
       "      <td>None</td>\n",
       "      <td>None</td>\n",
       "    </tr>\n",
       "  </tbody>\n",
       "</table>\n",
       "<p>3849 rows × 6 columns</p>\n",
       "</div>"
      ],
      "text/plain": [
       "       NCT Number  ALLOCATION       INTERVENTION MODEL PRIMARY PURPOSE  \\\n",
       "0     NCT04372602  RANDOMIZED  SINGLE GROUP ASSIGNMENT       TREATMENT   \n",
       "1     NCT04364698        None                     None            None   \n",
       "2     NCT04482621  RANDOMIZED      PARALLEL ASSIGNMENT       TREATMENT   \n",
       "3     NCT04459637        None                     None            None   \n",
       "4     NCT04425538        None  SINGLE GROUP ASSIGNMENT       TREATMENT   \n",
       "...           ...         ...                      ...             ...   \n",
       "3844  NCT04589923        None                     None            None   \n",
       "3845  NCT03871491  RANDOMIZED      PARALLEL ASSIGNMENT      PREVENTION   \n",
       "3846  NCT04386876  RANDOMIZED     CROSSOVER ASSIGNMENT           OTHER   \n",
       "3847  NCT04276987        None  SINGLE GROUP ASSIGNMENT       TREATMENT   \n",
       "3848  NCT03474965        None  SINGLE GROUP ASSIGNMENT       TREATMENT   \n",
       "\n",
       "     OBSERVATIONAL MODEL TIME PERSPECTIVE  \n",
       "0                   None             None  \n",
       "1                 COHORT      PROSPECTIVE  \n",
       "2                   None             None  \n",
       "3                 COHORT      PROSPECTIVE  \n",
       "4                   None             None  \n",
       "...                  ...              ...  \n",
       "3844              COHORT      PROSPECTIVE  \n",
       "3845                None             None  \n",
       "3846                None             None  \n",
       "3847                None             None  \n",
       "3848                None             None  \n",
       "\n",
       "[3849 rows x 6 columns]"
      ]
     },
     "execution_count": 55,
     "metadata": {},
     "output_type": "execute_result"
    }
   ],
   "source": [
    "study_designs_ = study_designs.drop(columns=\"MASKING\")\n",
    "study_designs_"
   ]
  },
  {
   "cell_type": "markdown",
   "metadata": {},
   "source": [
    "### `interventions`"
   ]
  },
  {
   "cell_type": "code",
   "execution_count": 54,
   "metadata": {
    "scrolled": true
   },
   "outputs": [
    {
     "data": {
      "text/html": [
       "<div>\n",
       "<style scoped>\n",
       "    .dataframe tbody tr th:only-of-type {\n",
       "        vertical-align: middle;\n",
       "    }\n",
       "\n",
       "    .dataframe tbody tr th {\n",
       "        vertical-align: top;\n",
       "    }\n",
       "\n",
       "    .dataframe thead th {\n",
       "        text-align: right;\n",
       "    }\n",
       "</style>\n",
       "<table border=\"1\" class=\"dataframe\">\n",
       "  <thead>\n",
       "    <tr style=\"text-align: right;\">\n",
       "      <th></th>\n",
       "      <th>NCT Number</th>\n",
       "      <th>DRUG</th>\n",
       "      <th>PROCEDURE</th>\n",
       "      <th>OTHER</th>\n",
       "      <th>DEVICE</th>\n",
       "      <th>BIOLOGICAL</th>\n",
       "      <th>DIAGNOSTIC TEST</th>\n",
       "      <th>DIETARY SUPPLEMENT</th>\n",
       "      <th>GENETIC</th>\n",
       "      <th>COMBINATION PRODUCT</th>\n",
       "      <th>BEHAVIORAL</th>\n",
       "      <th>RADIATION</th>\n",
       "    </tr>\n",
       "  </thead>\n",
       "  <tbody>\n",
       "    <tr>\n",
       "      <th>0</th>\n",
       "      <td>NCT04372602</td>\n",
       "      <td>False</td>\n",
       "      <td>False</td>\n",
       "      <td>True</td>\n",
       "      <td>True</td>\n",
       "      <td>True</td>\n",
       "      <td>True</td>\n",
       "      <td>True</td>\n",
       "      <td>True</td>\n",
       "      <td>True</td>\n",
       "      <td>True</td>\n",
       "      <td>True</td>\n",
       "    </tr>\n",
       "    <tr>\n",
       "      <th>1</th>\n",
       "      <td>NCT04364698</td>\n",
       "      <td>True</td>\n",
       "      <td>True</td>\n",
       "      <td>True</td>\n",
       "      <td>True</td>\n",
       "      <td>True</td>\n",
       "      <td>True</td>\n",
       "      <td>True</td>\n",
       "      <td>True</td>\n",
       "      <td>True</td>\n",
       "      <td>True</td>\n",
       "      <td>True</td>\n",
       "    </tr>\n",
       "    <tr>\n",
       "      <th>2</th>\n",
       "      <td>NCT04482621</td>\n",
       "      <td>False</td>\n",
       "      <td>True</td>\n",
       "      <td>False</td>\n",
       "      <td>True</td>\n",
       "      <td>True</td>\n",
       "      <td>True</td>\n",
       "      <td>True</td>\n",
       "      <td>True</td>\n",
       "      <td>True</td>\n",
       "      <td>True</td>\n",
       "      <td>True</td>\n",
       "    </tr>\n",
       "    <tr>\n",
       "      <th>3</th>\n",
       "      <td>NCT04459637</td>\n",
       "      <td>True</td>\n",
       "      <td>True</td>\n",
       "      <td>True</td>\n",
       "      <td>True</td>\n",
       "      <td>True</td>\n",
       "      <td>True</td>\n",
       "      <td>True</td>\n",
       "      <td>True</td>\n",
       "      <td>True</td>\n",
       "      <td>True</td>\n",
       "      <td>True</td>\n",
       "    </tr>\n",
       "    <tr>\n",
       "      <th>4</th>\n",
       "      <td>NCT04425538</td>\n",
       "      <td>False</td>\n",
       "      <td>True</td>\n",
       "      <td>True</td>\n",
       "      <td>True</td>\n",
       "      <td>True</td>\n",
       "      <td>True</td>\n",
       "      <td>True</td>\n",
       "      <td>True</td>\n",
       "      <td>True</td>\n",
       "      <td>True</td>\n",
       "      <td>True</td>\n",
       "    </tr>\n",
       "    <tr>\n",
       "      <th>...</th>\n",
       "      <td>...</td>\n",
       "      <td>...</td>\n",
       "      <td>...</td>\n",
       "      <td>...</td>\n",
       "      <td>...</td>\n",
       "      <td>...</td>\n",
       "      <td>...</td>\n",
       "      <td>...</td>\n",
       "      <td>...</td>\n",
       "      <td>...</td>\n",
       "      <td>...</td>\n",
       "      <td>...</td>\n",
       "    </tr>\n",
       "    <tr>\n",
       "      <th>3844</th>\n",
       "      <td>NCT04589923</td>\n",
       "      <td>True</td>\n",
       "      <td>True</td>\n",
       "      <td>True</td>\n",
       "      <td>False</td>\n",
       "      <td>True</td>\n",
       "      <td>True</td>\n",
       "      <td>True</td>\n",
       "      <td>True</td>\n",
       "      <td>True</td>\n",
       "      <td>True</td>\n",
       "      <td>True</td>\n",
       "    </tr>\n",
       "    <tr>\n",
       "      <th>3845</th>\n",
       "      <td>NCT03871491</td>\n",
       "      <td>False</td>\n",
       "      <td>True</td>\n",
       "      <td>True</td>\n",
       "      <td>True</td>\n",
       "      <td>True</td>\n",
       "      <td>True</td>\n",
       "      <td>True</td>\n",
       "      <td>True</td>\n",
       "      <td>True</td>\n",
       "      <td>True</td>\n",
       "      <td>True</td>\n",
       "    </tr>\n",
       "    <tr>\n",
       "      <th>3846</th>\n",
       "      <td>NCT04386876</td>\n",
       "      <td>False</td>\n",
       "      <td>True</td>\n",
       "      <td>True</td>\n",
       "      <td>True</td>\n",
       "      <td>True</td>\n",
       "      <td>True</td>\n",
       "      <td>True</td>\n",
       "      <td>True</td>\n",
       "      <td>True</td>\n",
       "      <td>True</td>\n",
       "      <td>True</td>\n",
       "    </tr>\n",
       "    <tr>\n",
       "      <th>3847</th>\n",
       "      <td>NCT04276987</td>\n",
       "      <td>True</td>\n",
       "      <td>True</td>\n",
       "      <td>True</td>\n",
       "      <td>True</td>\n",
       "      <td>False</td>\n",
       "      <td>True</td>\n",
       "      <td>True</td>\n",
       "      <td>True</td>\n",
       "      <td>True</td>\n",
       "      <td>True</td>\n",
       "      <td>True</td>\n",
       "    </tr>\n",
       "    <tr>\n",
       "      <th>3848</th>\n",
       "      <td>NCT03474965</td>\n",
       "      <td>False</td>\n",
       "      <td>True</td>\n",
       "      <td>True</td>\n",
       "      <td>True</td>\n",
       "      <td>True</td>\n",
       "      <td>True</td>\n",
       "      <td>True</td>\n",
       "      <td>True</td>\n",
       "      <td>True</td>\n",
       "      <td>True</td>\n",
       "      <td>True</td>\n",
       "    </tr>\n",
       "  </tbody>\n",
       "</table>\n",
       "<p>3849 rows × 12 columns</p>\n",
       "</div>"
      ],
      "text/plain": [
       "       NCT Number   DRUG PROCEDURE  OTHER DEVICE BIOLOGICAL DIAGNOSTIC TEST  \\\n",
       "0     NCT04372602  False     False   True   True       True            True   \n",
       "1     NCT04364698   True      True   True   True       True            True   \n",
       "2     NCT04482621  False      True  False   True       True            True   \n",
       "3     NCT04459637   True      True   True   True       True            True   \n",
       "4     NCT04425538  False      True   True   True       True            True   \n",
       "...           ...    ...       ...    ...    ...        ...             ...   \n",
       "3844  NCT04589923   True      True   True  False       True            True   \n",
       "3845  NCT03871491  False      True   True   True       True            True   \n",
       "3846  NCT04386876  False      True   True   True       True            True   \n",
       "3847  NCT04276987   True      True   True   True      False            True   \n",
       "3848  NCT03474965  False      True   True   True       True            True   \n",
       "\n",
       "     DIETARY SUPPLEMENT GENETIC COMBINATION PRODUCT BEHAVIORAL RADIATION  \n",
       "0                  True    True                True       True      True  \n",
       "1                  True    True                True       True      True  \n",
       "2                  True    True                True       True      True  \n",
       "3                  True    True                True       True      True  \n",
       "4                  True    True                True       True      True  \n",
       "...                 ...     ...                 ...        ...       ...  \n",
       "3844               True    True                True       True      True  \n",
       "3845               True    True                True       True      True  \n",
       "3846               True    True                True       True      True  \n",
       "3847               True    True                True       True      True  \n",
       "3848               True    True                True       True      True  \n",
       "\n",
       "[3849 rows x 12 columns]"
      ]
     },
     "execution_count": 54,
     "metadata": {},
     "output_type": "execute_result"
    }
   ],
   "source": [
    "interventions_type = interventions\n",
    "interventions_type.iloc[:,1:] = (interventions.replace({np.nan:0}) == 0).iloc[:,1:]\n",
    "interventions_type"
   ]
  },
  {
   "cell_type": "markdown",
   "metadata": {},
   "source": [
    "### `study_type`"
   ]
  },
  {
   "cell_type": "code",
   "execution_count": 70,
   "metadata": {
    "scrolled": true
   },
   "outputs": [
    {
     "data": {
      "text/html": [
       "<div>\n",
       "<style scoped>\n",
       "    .dataframe tbody tr th:only-of-type {\n",
       "        vertical-align: middle;\n",
       "    }\n",
       "\n",
       "    .dataframe tbody tr th {\n",
       "        vertical-align: top;\n",
       "    }\n",
       "\n",
       "    .dataframe thead th {\n",
       "        text-align: right;\n",
       "    }\n",
       "</style>\n",
       "<table border=\"1\" class=\"dataframe\">\n",
       "  <thead>\n",
       "    <tr style=\"text-align: right;\">\n",
       "      <th>Study Type</th>\n",
       "      <th>EXPANDED ACCESS</th>\n",
       "      <th>INTERVENTIONAL</th>\n",
       "      <th>OBSERVATIONAL</th>\n",
       "    </tr>\n",
       "    <tr>\n",
       "      <th>NCT Number</th>\n",
       "      <th></th>\n",
       "      <th></th>\n",
       "      <th></th>\n",
       "    </tr>\n",
       "  </thead>\n",
       "  <tbody>\n",
       "    <tr>\n",
       "      <th>NCT00571389</th>\n",
       "      <td>False</td>\n",
       "      <td>False</td>\n",
       "      <td>True</td>\n",
       "    </tr>\n",
       "    <tr>\n",
       "      <th>NCT01306084</th>\n",
       "      <td>False</td>\n",
       "      <td>False</td>\n",
       "      <td>True</td>\n",
       "    </tr>\n",
       "    <tr>\n",
       "      <th>NCT02735707</th>\n",
       "      <td>False</td>\n",
       "      <td>True</td>\n",
       "      <td>False</td>\n",
       "    </tr>\n",
       "    <tr>\n",
       "      <th>NCT02765191</th>\n",
       "      <td>False</td>\n",
       "      <td>True</td>\n",
       "      <td>False</td>\n",
       "    </tr>\n",
       "    <tr>\n",
       "      <th>NCT02788903</th>\n",
       "      <td>False</td>\n",
       "      <td>False</td>\n",
       "      <td>True</td>\n",
       "    </tr>\n",
       "    <tr>\n",
       "      <th>...</th>\n",
       "      <td>...</td>\n",
       "      <td>...</td>\n",
       "      <td>...</td>\n",
       "    </tr>\n",
       "    <tr>\n",
       "      <th>NCT04619628</th>\n",
       "      <td>False</td>\n",
       "      <td>True</td>\n",
       "      <td>False</td>\n",
       "    </tr>\n",
       "    <tr>\n",
       "      <th>NCT04619680</th>\n",
       "      <td>False</td>\n",
       "      <td>True</td>\n",
       "      <td>False</td>\n",
       "    </tr>\n",
       "    <tr>\n",
       "      <th>NCT04619693</th>\n",
       "      <td>False</td>\n",
       "      <td>False</td>\n",
       "      <td>True</td>\n",
       "    </tr>\n",
       "    <tr>\n",
       "      <th>NCT04619706</th>\n",
       "      <td>False</td>\n",
       "      <td>True</td>\n",
       "      <td>False</td>\n",
       "    </tr>\n",
       "    <tr>\n",
       "      <th>NCT04619719</th>\n",
       "      <td>False</td>\n",
       "      <td>True</td>\n",
       "      <td>False</td>\n",
       "    </tr>\n",
       "  </tbody>\n",
       "</table>\n",
       "<p>3849 rows × 3 columns</p>\n",
       "</div>"
      ],
      "text/plain": [
       "Study Type   EXPANDED ACCESS  INTERVENTIONAL  OBSERVATIONAL\n",
       "NCT Number                                                 \n",
       "NCT00571389            False           False           True\n",
       "NCT01306084            False           False           True\n",
       "NCT02735707            False            True          False\n",
       "NCT02765191            False            True          False\n",
       "NCT02788903            False           False           True\n",
       "...                      ...             ...            ...\n",
       "NCT04619628            False            True          False\n",
       "NCT04619680            False            True          False\n",
       "NCT04619693            False           False           True\n",
       "NCT04619706            False            True          False\n",
       "NCT04619719            False            True          False\n",
       "\n",
       "[3849 rows x 3 columns]"
      ]
     },
     "execution_count": 70,
     "metadata": {},
     "output_type": "execute_result"
    }
   ],
   "source": [
    "study_type[\"Study Type\"] = (\n",
    "    study_type[\"Study Type\"].\n",
    "    replace({\"TREATMENT IND/PROTOCOL\":\"EXPANDED ACCESS\",\n",
    "             \"INTERMEDIATE-SIZE POPULATION\":\"EXPANDED ACCESS\",})\n",
    "    .replace(regex={r'EXPANDED ACCESS:.*':\"EXPANDED ACCESS\"})\n",
    ")\n",
    "study_type_ = (\n",
    "    study_type.drop(columns = \"index\").\n",
    "    assign(value=True).\n",
    "    drop_duplicates().\n",
    "    pivot(index='NCT Number', columns='Study Type', values='value').\n",
    "    replace({np.nan:False})\n",
    ")\n",
    "study_type_"
   ]
  },
  {
   "cell_type": "markdown",
   "metadata": {},
   "source": [
    "### `funded_bys`"
   ]
  },
  {
   "cell_type": "code",
   "execution_count": 37,
   "metadata": {
    "scrolled": true
   },
   "outputs": [
    {
     "data": {
      "text/html": [
       "<div>\n",
       "<style scoped>\n",
       "    .dataframe tbody tr th:only-of-type {\n",
       "        vertical-align: middle;\n",
       "    }\n",
       "\n",
       "    .dataframe tbody tr th {\n",
       "        vertical-align: top;\n",
       "    }\n",
       "\n",
       "    .dataframe thead th {\n",
       "        text-align: right;\n",
       "    }\n",
       "</style>\n",
       "<table border=\"1\" class=\"dataframe\">\n",
       "  <thead>\n",
       "    <tr style=\"text-align: right;\">\n",
       "      <th>Funded Bys</th>\n",
       "      <th>INDUSTRY</th>\n",
       "      <th>NIH</th>\n",
       "      <th>OTHER</th>\n",
       "      <th>U.S. FED</th>\n",
       "    </tr>\n",
       "    <tr>\n",
       "      <th>NCT Number</th>\n",
       "      <th></th>\n",
       "      <th></th>\n",
       "      <th></th>\n",
       "      <th></th>\n",
       "    </tr>\n",
       "  </thead>\n",
       "  <tbody>\n",
       "    <tr>\n",
       "      <th>NCT00571389</th>\n",
       "      <td>True</td>\n",
       "      <td>False</td>\n",
       "      <td>False</td>\n",
       "      <td>False</td>\n",
       "    </tr>\n",
       "    <tr>\n",
       "      <th>NCT01306084</th>\n",
       "      <td>False</td>\n",
       "      <td>True</td>\n",
       "      <td>False</td>\n",
       "      <td>False</td>\n",
       "    </tr>\n",
       "    <tr>\n",
       "      <th>NCT02735707</th>\n",
       "      <td>False</td>\n",
       "      <td>False</td>\n",
       "      <td>True</td>\n",
       "      <td>False</td>\n",
       "    </tr>\n",
       "    <tr>\n",
       "      <th>NCT02765191</th>\n",
       "      <td>False</td>\n",
       "      <td>False</td>\n",
       "      <td>True</td>\n",
       "      <td>False</td>\n",
       "    </tr>\n",
       "    <tr>\n",
       "      <th>NCT02788903</th>\n",
       "      <td>False</td>\n",
       "      <td>False</td>\n",
       "      <td>True</td>\n",
       "      <td>False</td>\n",
       "    </tr>\n",
       "    <tr>\n",
       "      <th>...</th>\n",
       "      <td>...</td>\n",
       "      <td>...</td>\n",
       "      <td>...</td>\n",
       "      <td>...</td>\n",
       "    </tr>\n",
       "    <tr>\n",
       "      <th>NCT04619628</th>\n",
       "      <td>True</td>\n",
       "      <td>False</td>\n",
       "      <td>False</td>\n",
       "      <td>False</td>\n",
       "    </tr>\n",
       "    <tr>\n",
       "      <th>NCT04619680</th>\n",
       "      <td>True</td>\n",
       "      <td>False</td>\n",
       "      <td>True</td>\n",
       "      <td>False</td>\n",
       "    </tr>\n",
       "    <tr>\n",
       "      <th>NCT04619693</th>\n",
       "      <td>False</td>\n",
       "      <td>False</td>\n",
       "      <td>True</td>\n",
       "      <td>False</td>\n",
       "    </tr>\n",
       "    <tr>\n",
       "      <th>NCT04619706</th>\n",
       "      <td>True</td>\n",
       "      <td>False</td>\n",
       "      <td>False</td>\n",
       "      <td>False</td>\n",
       "    </tr>\n",
       "    <tr>\n",
       "      <th>NCT04619719</th>\n",
       "      <td>False</td>\n",
       "      <td>False</td>\n",
       "      <td>True</td>\n",
       "      <td>False</td>\n",
       "    </tr>\n",
       "  </tbody>\n",
       "</table>\n",
       "<p>3849 rows × 4 columns</p>\n",
       "</div>"
      ],
      "text/plain": [
       "Funded Bys   INDUSTRY    NIH  OTHER  U.S. FED\n",
       "NCT Number                                   \n",
       "NCT00571389      True  False  False     False\n",
       "NCT01306084     False   True  False     False\n",
       "NCT02735707     False  False   True     False\n",
       "NCT02765191     False  False   True     False\n",
       "NCT02788903     False  False   True     False\n",
       "...               ...    ...    ...       ...\n",
       "NCT04619628      True  False  False     False\n",
       "NCT04619680      True  False   True     False\n",
       "NCT04619693     False  False   True     False\n",
       "NCT04619706      True  False  False     False\n",
       "NCT04619719     False  False   True     False\n",
       "\n",
       "[3849 rows x 4 columns]"
      ]
     },
     "execution_count": 37,
     "metadata": {},
     "output_type": "execute_result"
    }
   ],
   "source": [
    "funded_bys_ = (\n",
    "    funded_bys.drop(columns = \"index\").\n",
    "    assign(value=True).\n",
    "    drop_duplicates().\n",
    "    pivot(index='NCT Number', columns='Funded Bys', values='value').\n",
    "    replace({np.nan:False})\n",
    ")\n",
    "funded_bys_"
   ]
  },
  {
   "cell_type": "markdown",
   "metadata": {},
   "source": [
    "### Merge data"
   ]
  },
  {
   "cell_type": "code",
   "execution_count": 72,
   "metadata": {},
   "outputs": [
    {
     "data": {
      "text/plain": [
       "Index(['NCT Number', 'Title', 'Locations', 'Status', 'Study Results',\n",
       "       'Conditions', 'Gender', 'Age', 'Phases', 'Enrollment', 'URL',\n",
       "       'Location_Country', 'Location_City_or_State', 'Location_Institution',\n",
       "       'Start Date', 'Completion Date', 'First Posted', 'Last Update Posted',\n",
       "       'Trial_Duration_Days', 'Trial_Duration_Months',\n",
       "       'Trial_Duration_Category', 'Enrollment_Category'],\n",
       "      dtype='object')"
      ]
     },
     "execution_count": 72,
     "metadata": {},
     "output_type": "execute_result"
    }
   ],
   "source": [
    "df.columns"
   ]
  },
  {
   "cell_type": "code",
   "execution_count": 139,
   "metadata": {},
   "outputs": [],
   "source": [
    "df_= (\n",
    "    df.drop(columns = ['Title','Locations','Conditions','Enrollment','URL',\n",
    "                        'Location_City_or_State','Location_Institution','Start Date',\n",
    "                        'Completion Date','First Posted','Last Update Posted',\n",
    "                        'Trial_Duration_Days','Trial_Duration_Months']).\n",
    "    set_index('NCT Number')\n",
    ")"
   ]
  },
  {
   "cell_type": "code",
   "execution_count": 140,
   "metadata": {},
   "outputs": [],
   "source": [
    "df_ = (\n",
    "    df_.merge(study_designs.set_index(\"NCT Number\"),left_index=True, right_index=True).\n",
    "    replace({np.nan:\"NO RECORD\", \"NAN\":\"NO RECORD\", \"N/A\":\"NO RECORD\"})\n",
    "      )"
   ]
  },
  {
   "cell_type": "markdown",
   "metadata": {},
   "source": [
    "## Fit Model"
   ]
  },
  {
   "cell_type": "code",
   "execution_count": 252,
   "metadata": {},
   "outputs": [],
   "source": [
    "km = KModes(n_clusters=3, init = \"Huang\", n_init = 3,verbose=0)\n",
    "fitClusters = km.fit_predict(df_)"
   ]
  },
  {
   "cell_type": "code",
   "execution_count": 247,
   "metadata": {},
   "outputs": [
    {
     "data": {
      "text/plain": [
       "array([0, 1, 2, ..., 0, 0, 0], dtype=uint16)"
      ]
     },
     "execution_count": 247,
     "metadata": {},
     "output_type": "execute_result"
    }
   ],
   "source": [
    "fitClusters"
   ]
  },
  {
   "cell_type": "code",
   "execution_count": 248,
   "metadata": {},
   "outputs": [
    {
     "data": {
      "text/html": [
       "<div>\n",
       "<style scoped>\n",
       "    .dataframe tbody tr th:only-of-type {\n",
       "        vertical-align: middle;\n",
       "    }\n",
       "\n",
       "    .dataframe tbody tr th {\n",
       "        vertical-align: top;\n",
       "    }\n",
       "\n",
       "    .dataframe thead th {\n",
       "        text-align: right;\n",
       "    }\n",
       "</style>\n",
       "<table border=\"1\" class=\"dataframe\">\n",
       "  <thead>\n",
       "    <tr style=\"text-align: right;\">\n",
       "      <th></th>\n",
       "      <th>Status</th>\n",
       "      <th>Study Results</th>\n",
       "      <th>Gender</th>\n",
       "      <th>Age</th>\n",
       "      <th>Phases</th>\n",
       "      <th>Location_Country</th>\n",
       "      <th>Funded Bys</th>\n",
       "      <th>Study Type</th>\n",
       "      <th>Trial_Duration_Category</th>\n",
       "      <th>Enrollment_Category</th>\n",
       "      <th>ALLOCATION</th>\n",
       "      <th>INTERVENTION MODEL</th>\n",
       "      <th>MASKING</th>\n",
       "      <th>PRIMARY PURPOSE</th>\n",
       "      <th>OBSERVATIONAL MODEL</th>\n",
       "      <th>TIME PERSPECTIVE</th>\n",
       "    </tr>\n",
       "  </thead>\n",
       "  <tbody>\n",
       "    <tr>\n",
       "      <th>0</th>\n",
       "      <td>RECRUITING</td>\n",
       "      <td>NO RESULTS AVAILABLE</td>\n",
       "      <td>ALL</td>\n",
       "      <td>ADULT, OLDER ADULT</td>\n",
       "      <td>NOT APPLICABLE</td>\n",
       "      <td>UNITED STATES</td>\n",
       "      <td>OTHER</td>\n",
       "      <td>INTERVENTIONAL</td>\n",
       "      <td>7 - 12 months</td>\n",
       "      <td>11 - 50</td>\n",
       "      <td>NO RECORD</td>\n",
       "      <td>SINGLE GROUP ASSIGNMENT</td>\n",
       "      <td>NONE (OPEN LABEL)</td>\n",
       "      <td>TREATMENT</td>\n",
       "      <td>NO RECORD</td>\n",
       "      <td>NO RECORD</td>\n",
       "    </tr>\n",
       "    <tr>\n",
       "      <th>1</th>\n",
       "      <td>RECRUITING</td>\n",
       "      <td>NO RESULTS AVAILABLE</td>\n",
       "      <td>ALL</td>\n",
       "      <td>ADULT, OLDER ADULT</td>\n",
       "      <td>NO RECORD</td>\n",
       "      <td>FRANCE</td>\n",
       "      <td>OTHER</td>\n",
       "      <td>OBSERVATIONAL</td>\n",
       "      <td>1 - 3 months</td>\n",
       "      <td>201 - 500</td>\n",
       "      <td>NO RECORD</td>\n",
       "      <td>NO RECORD</td>\n",
       "      <td>NO RECORD</td>\n",
       "      <td>NO RECORD</td>\n",
       "      <td>COHORT</td>\n",
       "      <td>PROSPECTIVE</td>\n",
       "    </tr>\n",
       "    <tr>\n",
       "      <th>2</th>\n",
       "      <td>RECRUITING</td>\n",
       "      <td>NO RESULTS AVAILABLE</td>\n",
       "      <td>ALL</td>\n",
       "      <td>ADULT, OLDER ADULT</td>\n",
       "      <td>PHASE 2</td>\n",
       "      <td>UNITED STATES</td>\n",
       "      <td>OTHER</td>\n",
       "      <td>INTERVENTIONAL</td>\n",
       "      <td>7 - 12 months</td>\n",
       "      <td>51 - 100</td>\n",
       "      <td>RANDOMIZED</td>\n",
       "      <td>PARALLEL ASSIGNMENT</td>\n",
       "      <td>NONE (OPEN LABEL)</td>\n",
       "      <td>TREATMENT</td>\n",
       "      <td>NO RECORD</td>\n",
       "      <td>NO RECORD</td>\n",
       "    </tr>\n",
       "  </tbody>\n",
       "</table>\n",
       "</div>"
      ],
      "text/plain": [
       "       Status         Study Results Gender                 Age  \\\n",
       "0  RECRUITING  NO RESULTS AVAILABLE    ALL  ADULT, OLDER ADULT   \n",
       "1  RECRUITING  NO RESULTS AVAILABLE    ALL  ADULT, OLDER ADULT   \n",
       "2  RECRUITING  NO RESULTS AVAILABLE    ALL  ADULT, OLDER ADULT   \n",
       "\n",
       "           Phases Location_Country Funded Bys      Study Type  \\\n",
       "0  NOT APPLICABLE    UNITED STATES      OTHER  INTERVENTIONAL   \n",
       "1       NO RECORD           FRANCE      OTHER   OBSERVATIONAL   \n",
       "2         PHASE 2    UNITED STATES      OTHER  INTERVENTIONAL   \n",
       "\n",
       "  Trial_Duration_Category Enrollment_Category  ALLOCATION  \\\n",
       "0           7 - 12 months             11 - 50   NO RECORD   \n",
       "1            1 - 3 months           201 - 500   NO RECORD   \n",
       "2           7 - 12 months            51 - 100  RANDOMIZED   \n",
       "\n",
       "        INTERVENTION MODEL            MASKING PRIMARY PURPOSE  \\\n",
       "0  SINGLE GROUP ASSIGNMENT  NONE (OPEN LABEL)       TREATMENT   \n",
       "1                NO RECORD          NO RECORD       NO RECORD   \n",
       "2      PARALLEL ASSIGNMENT  NONE (OPEN LABEL)       TREATMENT   \n",
       "\n",
       "  OBSERVATIONAL MODEL TIME PERSPECTIVE  \n",
       "0           NO RECORD        NO RECORD  \n",
       "1              COHORT      PROSPECTIVE  \n",
       "2           NO RECORD        NO RECORD  "
      ]
     },
     "execution_count": 248,
     "metadata": {},
     "output_type": "execute_result"
    }
   ],
   "source": [
    "clusterCentroidsDf = pd.DataFrame(km.cluster_centroids_)\n",
    "clusterCentroidsDf.columns = df_.columns\n",
    "clusterCentroidsDf"
   ]
  },
  {
   "cell_type": "markdown",
   "metadata": {},
   "source": [
    "## Hyperparameter Tunning"
   ]
  },
  {
   "cell_type": "markdown",
   "metadata": {},
   "source": [
    "### Elbow Method"
   ]
  },
  {
   "cell_type": "markdown",
   "metadata": {},
   "source": [
    "As K increase, cost will strictly decrease but the speed of decrease may slow down. So when it is not decrease that fast, we may stop and choose that K.\n",
    "https://datascience.stackexchange.com/questions/64455/how-to-evaluate-the-k-modes-clusters"
   ]
  },
  {
   "cell_type": "code",
   "execution_count": 363,
   "metadata": {},
   "outputs": [],
   "source": [
    "hyperparams = {\n",
    "    \"n_clusters\":range(2,11),\n",
    "    \"init\":[\"Huang\",\"Cao\"]\n",
    "}\n",
    "\n",
    "para_cost = {}\n",
    "\n",
    "for init in hyperparams[\"init\"]:\n",
    "    cost = []\n",
    "    for n in hyperparams[\"n_clusters\"]:\n",
    "        km = KModes(n_clusters=n, init = init, n_init = 1, verbose=0)\n",
    "        km.fit_predict(df_)\n",
    "        cost.append(km.cost_)\n",
    "    cost_decrease_ratio = [(cost[n-1] - cost[n])/cost[n-1] if n > 0 else 1 for n, k in enumerate(cost)]\n",
    "    if_decrease_slow = [1 if cost_decrease_ratio[n] < 0.02 else 0 for n, k in enumerate(cost_decrease_ratio)]\n",
    "    if 1 in if_decrease_slow:\n",
    "        idx = np.argwhere(np.array(if_decrease_slow)==1).min() - 1\n",
    "    else:\n",
    "        idx = len(if_decrease_slow) - 1\n",
    "    k = list(hyperparams[\"n_clusters\"])[idx]\n",
    "    para_cost[(init, k)] = cost[idx]"
   ]
  },
  {
   "cell_type": "code",
   "execution_count": 364,
   "metadata": {},
   "outputs": [
    {
     "data": {
      "text/plain": [
       "{('Huang', 5): 16047.0, ('Cao', 4): 16973.0}"
      ]
     },
     "execution_count": 364,
     "metadata": {},
     "output_type": "execute_result"
    }
   ],
   "source": [
    "para_cost"
   ]
  },
  {
   "cell_type": "markdown",
   "metadata": {},
   "source": [
    "## Visualize Outcome"
   ]
  },
  {
   "cell_type": "code",
   "execution_count": 232,
   "metadata": {},
   "outputs": [],
   "source": [
    "clustersDf = pd.DataFrame(fitClusters_cao)\n",
    "clustersDf.columns = ['Cluster Predicted']\n",
    "combine = df_.reset_index().merge(clustersDf, left_index=True, right_index=True).set_index(\"NCT Number\")"
   ]
  },
  {
   "cell_type": "code",
   "execution_count": 233,
   "metadata": {},
   "outputs": [
    {
     "data": {
      "text/html": [
       "<div>\n",
       "<style scoped>\n",
       "    .dataframe tbody tr th:only-of-type {\n",
       "        vertical-align: middle;\n",
       "    }\n",
       "\n",
       "    .dataframe tbody tr th {\n",
       "        vertical-align: top;\n",
       "    }\n",
       "\n",
       "    .dataframe thead th {\n",
       "        text-align: right;\n",
       "    }\n",
       "</style>\n",
       "<table border=\"1\" class=\"dataframe\">\n",
       "  <thead>\n",
       "    <tr style=\"text-align: right;\">\n",
       "      <th></th>\n",
       "      <th>Cluster Predicted</th>\n",
       "      <th>Trial_Duration_Category</th>\n",
       "      <th>count</th>\n",
       "    </tr>\n",
       "  </thead>\n",
       "  <tbody>\n",
       "    <tr>\n",
       "      <th>0</th>\n",
       "      <td>0</td>\n",
       "      <td>1 - 2 years</td>\n",
       "      <td>244</td>\n",
       "    </tr>\n",
       "    <tr>\n",
       "      <th>1</th>\n",
       "      <td>0</td>\n",
       "      <td>1 - 3 months</td>\n",
       "      <td>424</td>\n",
       "    </tr>\n",
       "    <tr>\n",
       "      <th>2</th>\n",
       "      <td>0</td>\n",
       "      <td>2 - 5 years</td>\n",
       "      <td>110</td>\n",
       "    </tr>\n",
       "    <tr>\n",
       "      <th>3</th>\n",
       "      <td>0</td>\n",
       "      <td>4 - 6 months</td>\n",
       "      <td>195</td>\n",
       "    </tr>\n",
       "    <tr>\n",
       "      <th>4</th>\n",
       "      <td>0</td>\n",
       "      <td>5 - 10 years</td>\n",
       "      <td>13</td>\n",
       "    </tr>\n",
       "    <tr>\n",
       "      <th>5</th>\n",
       "      <td>0</td>\n",
       "      <td>7 - 12 months</td>\n",
       "      <td>101</td>\n",
       "    </tr>\n",
       "    <tr>\n",
       "      <th>6</th>\n",
       "      <td>0</td>\n",
       "      <td>NO RECORD</td>\n",
       "      <td>27</td>\n",
       "    </tr>\n",
       "    <tr>\n",
       "      <th>7</th>\n",
       "      <td>0</td>\n",
       "      <td>less then 1 month</td>\n",
       "      <td>46</td>\n",
       "    </tr>\n",
       "    <tr>\n",
       "      <th>8</th>\n",
       "      <td>0</td>\n",
       "      <td>over 10 years</td>\n",
       "      <td>9</td>\n",
       "    </tr>\n",
       "    <tr>\n",
       "      <th>9</th>\n",
       "      <td>1</td>\n",
       "      <td>1 - 2 years</td>\n",
       "      <td>304</td>\n",
       "    </tr>\n",
       "    <tr>\n",
       "      <th>10</th>\n",
       "      <td>1</td>\n",
       "      <td>1 - 3 months</td>\n",
       "      <td>201</td>\n",
       "    </tr>\n",
       "    <tr>\n",
       "      <th>11</th>\n",
       "      <td>1</td>\n",
       "      <td>2 - 5 years</td>\n",
       "      <td>39</td>\n",
       "    </tr>\n",
       "    <tr>\n",
       "      <th>12</th>\n",
       "      <td>1</td>\n",
       "      <td>4 - 6 months</td>\n",
       "      <td>214</td>\n",
       "    </tr>\n",
       "    <tr>\n",
       "      <th>13</th>\n",
       "      <td>1</td>\n",
       "      <td>5 - 10 years</td>\n",
       "      <td>5</td>\n",
       "    </tr>\n",
       "    <tr>\n",
       "      <th>14</th>\n",
       "      <td>1</td>\n",
       "      <td>7 - 12 months</td>\n",
       "      <td>133</td>\n",
       "    </tr>\n",
       "    <tr>\n",
       "      <th>15</th>\n",
       "      <td>1</td>\n",
       "      <td>less then 1 month</td>\n",
       "      <td>21</td>\n",
       "    </tr>\n",
       "    <tr>\n",
       "      <th>16</th>\n",
       "      <td>1</td>\n",
       "      <td>over 10 years</td>\n",
       "      <td>3</td>\n",
       "    </tr>\n",
       "    <tr>\n",
       "      <th>17</th>\n",
       "      <td>2</td>\n",
       "      <td>1 - 2 years</td>\n",
       "      <td>76</td>\n",
       "    </tr>\n",
       "    <tr>\n",
       "      <th>18</th>\n",
       "      <td>2</td>\n",
       "      <td>1 - 3 months</td>\n",
       "      <td>13</td>\n",
       "    </tr>\n",
       "    <tr>\n",
       "      <th>19</th>\n",
       "      <td>2</td>\n",
       "      <td>2 - 5 years</td>\n",
       "      <td>36</td>\n",
       "    </tr>\n",
       "    <tr>\n",
       "      <th>20</th>\n",
       "      <td>2</td>\n",
       "      <td>4 - 6 months</td>\n",
       "      <td>67</td>\n",
       "    </tr>\n",
       "    <tr>\n",
       "      <th>21</th>\n",
       "      <td>2</td>\n",
       "      <td>5 - 10 years</td>\n",
       "      <td>7</td>\n",
       "    </tr>\n",
       "    <tr>\n",
       "      <th>22</th>\n",
       "      <td>2</td>\n",
       "      <td>7 - 12 months</td>\n",
       "      <td>282</td>\n",
       "    </tr>\n",
       "    <tr>\n",
       "      <th>23</th>\n",
       "      <td>2</td>\n",
       "      <td>NO RECORD</td>\n",
       "      <td>1</td>\n",
       "    </tr>\n",
       "    <tr>\n",
       "      <th>24</th>\n",
       "      <td>2</td>\n",
       "      <td>less then 1 month</td>\n",
       "      <td>9</td>\n",
       "    </tr>\n",
       "    <tr>\n",
       "      <th>25</th>\n",
       "      <td>2</td>\n",
       "      <td>over 10 years</td>\n",
       "      <td>2</td>\n",
       "    </tr>\n",
       "    <tr>\n",
       "      <th>26</th>\n",
       "      <td>3</td>\n",
       "      <td>1 - 2 years</td>\n",
       "      <td>65</td>\n",
       "    </tr>\n",
       "    <tr>\n",
       "      <th>27</th>\n",
       "      <td>3</td>\n",
       "      <td>1 - 3 months</td>\n",
       "      <td>88</td>\n",
       "    </tr>\n",
       "    <tr>\n",
       "      <th>28</th>\n",
       "      <td>3</td>\n",
       "      <td>2 - 5 years</td>\n",
       "      <td>27</td>\n",
       "    </tr>\n",
       "    <tr>\n",
       "      <th>29</th>\n",
       "      <td>3</td>\n",
       "      <td>4 - 6 months</td>\n",
       "      <td>88</td>\n",
       "    </tr>\n",
       "    <tr>\n",
       "      <th>30</th>\n",
       "      <td>3</td>\n",
       "      <td>5 - 10 years</td>\n",
       "      <td>6</td>\n",
       "    </tr>\n",
       "    <tr>\n",
       "      <th>31</th>\n",
       "      <td>3</td>\n",
       "      <td>7 - 12 months</td>\n",
       "      <td>174</td>\n",
       "    </tr>\n",
       "    <tr>\n",
       "      <th>32</th>\n",
       "      <td>3</td>\n",
       "      <td>less then 1 month</td>\n",
       "      <td>8</td>\n",
       "    </tr>\n",
       "    <tr>\n",
       "      <th>33</th>\n",
       "      <td>4</td>\n",
       "      <td>1 - 2 years</td>\n",
       "      <td>95</td>\n",
       "    </tr>\n",
       "    <tr>\n",
       "      <th>34</th>\n",
       "      <td>4</td>\n",
       "      <td>1 - 3 months</td>\n",
       "      <td>107</td>\n",
       "    </tr>\n",
       "    <tr>\n",
       "      <th>35</th>\n",
       "      <td>4</td>\n",
       "      <td>2 - 5 years</td>\n",
       "      <td>51</td>\n",
       "    </tr>\n",
       "    <tr>\n",
       "      <th>36</th>\n",
       "      <td>4</td>\n",
       "      <td>4 - 6 months</td>\n",
       "      <td>182</td>\n",
       "    </tr>\n",
       "    <tr>\n",
       "      <th>37</th>\n",
       "      <td>4</td>\n",
       "      <td>5 - 10 years</td>\n",
       "      <td>2</td>\n",
       "    </tr>\n",
       "    <tr>\n",
       "      <th>38</th>\n",
       "      <td>4</td>\n",
       "      <td>7 - 12 months</td>\n",
       "      <td>370</td>\n",
       "    </tr>\n",
       "    <tr>\n",
       "      <th>39</th>\n",
       "      <td>4</td>\n",
       "      <td>less then 1 month</td>\n",
       "      <td>2</td>\n",
       "    </tr>\n",
       "    <tr>\n",
       "      <th>40</th>\n",
       "      <td>4</td>\n",
       "      <td>over 10 years</td>\n",
       "      <td>2</td>\n",
       "    </tr>\n",
       "  </tbody>\n",
       "</table>\n",
       "</div>"
      ],
      "text/plain": [
       "    Cluster Predicted Trial_Duration_Category  count\n",
       "0                   0             1 - 2 years    244\n",
       "1                   0            1 - 3 months    424\n",
       "2                   0             2 - 5 years    110\n",
       "3                   0            4 - 6 months    195\n",
       "4                   0            5 - 10 years     13\n",
       "5                   0           7 - 12 months    101\n",
       "6                   0               NO RECORD     27\n",
       "7                   0       less then 1 month     46\n",
       "8                   0           over 10 years      9\n",
       "9                   1             1 - 2 years    304\n",
       "10                  1            1 - 3 months    201\n",
       "11                  1             2 - 5 years     39\n",
       "12                  1            4 - 6 months    214\n",
       "13                  1            5 - 10 years      5\n",
       "14                  1           7 - 12 months    133\n",
       "15                  1       less then 1 month     21\n",
       "16                  1           over 10 years      3\n",
       "17                  2             1 - 2 years     76\n",
       "18                  2            1 - 3 months     13\n",
       "19                  2             2 - 5 years     36\n",
       "20                  2            4 - 6 months     67\n",
       "21                  2            5 - 10 years      7\n",
       "22                  2           7 - 12 months    282\n",
       "23                  2               NO RECORD      1\n",
       "24                  2       less then 1 month      9\n",
       "25                  2           over 10 years      2\n",
       "26                  3             1 - 2 years     65\n",
       "27                  3            1 - 3 months     88\n",
       "28                  3             2 - 5 years     27\n",
       "29                  3            4 - 6 months     88\n",
       "30                  3            5 - 10 years      6\n",
       "31                  3           7 - 12 months    174\n",
       "32                  3       less then 1 month      8\n",
       "33                  4             1 - 2 years     95\n",
       "34                  4            1 - 3 months    107\n",
       "35                  4             2 - 5 years     51\n",
       "36                  4            4 - 6 months    182\n",
       "37                  4            5 - 10 years      2\n",
       "38                  4           7 - 12 months    370\n",
       "39                  4       less then 1 month      2\n",
       "40                  4           over 10 years      2"
      ]
     },
     "execution_count": 233,
     "metadata": {},
     "output_type": "execute_result"
    }
   ],
   "source": [
    "col = \"Trial_Duration_Category\"\n",
    "dfm = combine.assign(count=1).groupby(['Cluster Predicted',col]).agg({\"count\":'count'}).reset_index()\n",
    "dfm"
   ]
  },
  {
   "cell_type": "code",
   "execution_count": 234,
   "metadata": {},
   "outputs": [
    {
     "data": {
      "application/vnd.plotly.v1+json": {
       "config": {
        "plotlyServerURL": "https://plot.ly"
       },
       "data": [
        {
         "alignmentgroup": "True",
         "hovertemplate": "Trial_Duration_Category=1 - 2 years<br>Cluster Predicted=%{x}<br>count=%{y}<extra></extra>",
         "legendgroup": "1 - 2 years",
         "marker": {
          "color": "#636efa"
         },
         "name": "1 - 2 years",
         "offsetgroup": "1 - 2 years",
         "orientation": "v",
         "showlegend": true,
         "textposition": "auto",
         "type": "bar",
         "x": [
          0,
          1,
          2,
          3,
          4
         ],
         "xaxis": "x",
         "y": [
          244,
          304,
          76,
          65,
          95
         ],
         "yaxis": "y"
        },
        {
         "alignmentgroup": "True",
         "hovertemplate": "Trial_Duration_Category=1 - 3 months<br>Cluster Predicted=%{x}<br>count=%{y}<extra></extra>",
         "legendgroup": "1 - 3 months",
         "marker": {
          "color": "#EF553B"
         },
         "name": "1 - 3 months",
         "offsetgroup": "1 - 3 months",
         "orientation": "v",
         "showlegend": true,
         "textposition": "auto",
         "type": "bar",
         "x": [
          0,
          1,
          2,
          3,
          4
         ],
         "xaxis": "x",
         "y": [
          424,
          201,
          13,
          88,
          107
         ],
         "yaxis": "y"
        },
        {
         "alignmentgroup": "True",
         "hovertemplate": "Trial_Duration_Category=2 - 5 years<br>Cluster Predicted=%{x}<br>count=%{y}<extra></extra>",
         "legendgroup": "2 - 5 years",
         "marker": {
          "color": "#00cc96"
         },
         "name": "2 - 5 years",
         "offsetgroup": "2 - 5 years",
         "orientation": "v",
         "showlegend": true,
         "textposition": "auto",
         "type": "bar",
         "x": [
          0,
          1,
          2,
          3,
          4
         ],
         "xaxis": "x",
         "y": [
          110,
          39,
          36,
          27,
          51
         ],
         "yaxis": "y"
        },
        {
         "alignmentgroup": "True",
         "hovertemplate": "Trial_Duration_Category=4 - 6 months<br>Cluster Predicted=%{x}<br>count=%{y}<extra></extra>",
         "legendgroup": "4 - 6 months",
         "marker": {
          "color": "#ab63fa"
         },
         "name": "4 - 6 months",
         "offsetgroup": "4 - 6 months",
         "orientation": "v",
         "showlegend": true,
         "textposition": "auto",
         "type": "bar",
         "x": [
          0,
          1,
          2,
          3,
          4
         ],
         "xaxis": "x",
         "y": [
          195,
          214,
          67,
          88,
          182
         ],
         "yaxis": "y"
        },
        {
         "alignmentgroup": "True",
         "hovertemplate": "Trial_Duration_Category=5 - 10 years<br>Cluster Predicted=%{x}<br>count=%{y}<extra></extra>",
         "legendgroup": "5 - 10 years",
         "marker": {
          "color": "#FFA15A"
         },
         "name": "5 - 10 years",
         "offsetgroup": "5 - 10 years",
         "orientation": "v",
         "showlegend": true,
         "textposition": "auto",
         "type": "bar",
         "x": [
          0,
          1,
          2,
          3,
          4
         ],
         "xaxis": "x",
         "y": [
          13,
          5,
          7,
          6,
          2
         ],
         "yaxis": "y"
        },
        {
         "alignmentgroup": "True",
         "hovertemplate": "Trial_Duration_Category=7 - 12 months<br>Cluster Predicted=%{x}<br>count=%{y}<extra></extra>",
         "legendgroup": "7 - 12 months",
         "marker": {
          "color": "#19d3f3"
         },
         "name": "7 - 12 months",
         "offsetgroup": "7 - 12 months",
         "orientation": "v",
         "showlegend": true,
         "textposition": "auto",
         "type": "bar",
         "x": [
          0,
          1,
          2,
          3,
          4
         ],
         "xaxis": "x",
         "y": [
          101,
          133,
          282,
          174,
          370
         ],
         "yaxis": "y"
        },
        {
         "alignmentgroup": "True",
         "hovertemplate": "Trial_Duration_Category=NO RECORD<br>Cluster Predicted=%{x}<br>count=%{y}<extra></extra>",
         "legendgroup": "NO RECORD",
         "marker": {
          "color": "#FF6692"
         },
         "name": "NO RECORD",
         "offsetgroup": "NO RECORD",
         "orientation": "v",
         "showlegend": true,
         "textposition": "auto",
         "type": "bar",
         "x": [
          0,
          2
         ],
         "xaxis": "x",
         "y": [
          27,
          1
         ],
         "yaxis": "y"
        },
        {
         "alignmentgroup": "True",
         "hovertemplate": "Trial_Duration_Category=less then 1 month<br>Cluster Predicted=%{x}<br>count=%{y}<extra></extra>",
         "legendgroup": "less then 1 month",
         "marker": {
          "color": "#B6E880"
         },
         "name": "less then 1 month",
         "offsetgroup": "less then 1 month",
         "orientation": "v",
         "showlegend": true,
         "textposition": "auto",
         "type": "bar",
         "x": [
          0,
          1,
          2,
          3,
          4
         ],
         "xaxis": "x",
         "y": [
          46,
          21,
          9,
          8,
          2
         ],
         "yaxis": "y"
        },
        {
         "alignmentgroup": "True",
         "hovertemplate": "Trial_Duration_Category=over 10 years<br>Cluster Predicted=%{x}<br>count=%{y}<extra></extra>",
         "legendgroup": "over 10 years",
         "marker": {
          "color": "#FF97FF"
         },
         "name": "over 10 years",
         "offsetgroup": "over 10 years",
         "orientation": "v",
         "showlegend": true,
         "textposition": "auto",
         "type": "bar",
         "x": [
          0,
          1,
          2,
          4
         ],
         "xaxis": "x",
         "y": [
          9,
          3,
          2,
          2
         ],
         "yaxis": "y"
        }
       ],
       "layout": {
        "barmode": "group",
        "height": 400,
        "legend": {
         "title": {
          "text": "Trial_Duration_Category"
         },
         "tracegroupgap": 0
        },
        "margin": {
         "t": 60
        },
        "template": {
         "data": {
          "bar": [
           {
            "error_x": {
             "color": "#2a3f5f"
            },
            "error_y": {
             "color": "#2a3f5f"
            },
            "marker": {
             "line": {
              "color": "#E5ECF6",
              "width": 0.5
             }
            },
            "type": "bar"
           }
          ],
          "barpolar": [
           {
            "marker": {
             "line": {
              "color": "#E5ECF6",
              "width": 0.5
             }
            },
            "type": "barpolar"
           }
          ],
          "carpet": [
           {
            "aaxis": {
             "endlinecolor": "#2a3f5f",
             "gridcolor": "white",
             "linecolor": "white",
             "minorgridcolor": "white",
             "startlinecolor": "#2a3f5f"
            },
            "baxis": {
             "endlinecolor": "#2a3f5f",
             "gridcolor": "white",
             "linecolor": "white",
             "minorgridcolor": "white",
             "startlinecolor": "#2a3f5f"
            },
            "type": "carpet"
           }
          ],
          "choropleth": [
           {
            "colorbar": {
             "outlinewidth": 0,
             "ticks": ""
            },
            "type": "choropleth"
           }
          ],
          "contour": [
           {
            "colorbar": {
             "outlinewidth": 0,
             "ticks": ""
            },
            "colorscale": [
             [
              0,
              "#0d0887"
             ],
             [
              0.1111111111111111,
              "#46039f"
             ],
             [
              0.2222222222222222,
              "#7201a8"
             ],
             [
              0.3333333333333333,
              "#9c179e"
             ],
             [
              0.4444444444444444,
              "#bd3786"
             ],
             [
              0.5555555555555556,
              "#d8576b"
             ],
             [
              0.6666666666666666,
              "#ed7953"
             ],
             [
              0.7777777777777778,
              "#fb9f3a"
             ],
             [
              0.8888888888888888,
              "#fdca26"
             ],
             [
              1,
              "#f0f921"
             ]
            ],
            "type": "contour"
           }
          ],
          "contourcarpet": [
           {
            "colorbar": {
             "outlinewidth": 0,
             "ticks": ""
            },
            "type": "contourcarpet"
           }
          ],
          "heatmap": [
           {
            "colorbar": {
             "outlinewidth": 0,
             "ticks": ""
            },
            "colorscale": [
             [
              0,
              "#0d0887"
             ],
             [
              0.1111111111111111,
              "#46039f"
             ],
             [
              0.2222222222222222,
              "#7201a8"
             ],
             [
              0.3333333333333333,
              "#9c179e"
             ],
             [
              0.4444444444444444,
              "#bd3786"
             ],
             [
              0.5555555555555556,
              "#d8576b"
             ],
             [
              0.6666666666666666,
              "#ed7953"
             ],
             [
              0.7777777777777778,
              "#fb9f3a"
             ],
             [
              0.8888888888888888,
              "#fdca26"
             ],
             [
              1,
              "#f0f921"
             ]
            ],
            "type": "heatmap"
           }
          ],
          "heatmapgl": [
           {
            "colorbar": {
             "outlinewidth": 0,
             "ticks": ""
            },
            "colorscale": [
             [
              0,
              "#0d0887"
             ],
             [
              0.1111111111111111,
              "#46039f"
             ],
             [
              0.2222222222222222,
              "#7201a8"
             ],
             [
              0.3333333333333333,
              "#9c179e"
             ],
             [
              0.4444444444444444,
              "#bd3786"
             ],
             [
              0.5555555555555556,
              "#d8576b"
             ],
             [
              0.6666666666666666,
              "#ed7953"
             ],
             [
              0.7777777777777778,
              "#fb9f3a"
             ],
             [
              0.8888888888888888,
              "#fdca26"
             ],
             [
              1,
              "#f0f921"
             ]
            ],
            "type": "heatmapgl"
           }
          ],
          "histogram": [
           {
            "marker": {
             "colorbar": {
              "outlinewidth": 0,
              "ticks": ""
             }
            },
            "type": "histogram"
           }
          ],
          "histogram2d": [
           {
            "colorbar": {
             "outlinewidth": 0,
             "ticks": ""
            },
            "colorscale": [
             [
              0,
              "#0d0887"
             ],
             [
              0.1111111111111111,
              "#46039f"
             ],
             [
              0.2222222222222222,
              "#7201a8"
             ],
             [
              0.3333333333333333,
              "#9c179e"
             ],
             [
              0.4444444444444444,
              "#bd3786"
             ],
             [
              0.5555555555555556,
              "#d8576b"
             ],
             [
              0.6666666666666666,
              "#ed7953"
             ],
             [
              0.7777777777777778,
              "#fb9f3a"
             ],
             [
              0.8888888888888888,
              "#fdca26"
             ],
             [
              1,
              "#f0f921"
             ]
            ],
            "type": "histogram2d"
           }
          ],
          "histogram2dcontour": [
           {
            "colorbar": {
             "outlinewidth": 0,
             "ticks": ""
            },
            "colorscale": [
             [
              0,
              "#0d0887"
             ],
             [
              0.1111111111111111,
              "#46039f"
             ],
             [
              0.2222222222222222,
              "#7201a8"
             ],
             [
              0.3333333333333333,
              "#9c179e"
             ],
             [
              0.4444444444444444,
              "#bd3786"
             ],
             [
              0.5555555555555556,
              "#d8576b"
             ],
             [
              0.6666666666666666,
              "#ed7953"
             ],
             [
              0.7777777777777778,
              "#fb9f3a"
             ],
             [
              0.8888888888888888,
              "#fdca26"
             ],
             [
              1,
              "#f0f921"
             ]
            ],
            "type": "histogram2dcontour"
           }
          ],
          "mesh3d": [
           {
            "colorbar": {
             "outlinewidth": 0,
             "ticks": ""
            },
            "type": "mesh3d"
           }
          ],
          "parcoords": [
           {
            "line": {
             "colorbar": {
              "outlinewidth": 0,
              "ticks": ""
             }
            },
            "type": "parcoords"
           }
          ],
          "pie": [
           {
            "automargin": true,
            "type": "pie"
           }
          ],
          "scatter": [
           {
            "marker": {
             "colorbar": {
              "outlinewidth": 0,
              "ticks": ""
             }
            },
            "type": "scatter"
           }
          ],
          "scatter3d": [
           {
            "line": {
             "colorbar": {
              "outlinewidth": 0,
              "ticks": ""
             }
            },
            "marker": {
             "colorbar": {
              "outlinewidth": 0,
              "ticks": ""
             }
            },
            "type": "scatter3d"
           }
          ],
          "scattercarpet": [
           {
            "marker": {
             "colorbar": {
              "outlinewidth": 0,
              "ticks": ""
             }
            },
            "type": "scattercarpet"
           }
          ],
          "scattergeo": [
           {
            "marker": {
             "colorbar": {
              "outlinewidth": 0,
              "ticks": ""
             }
            },
            "type": "scattergeo"
           }
          ],
          "scattergl": [
           {
            "marker": {
             "colorbar": {
              "outlinewidth": 0,
              "ticks": ""
             }
            },
            "type": "scattergl"
           }
          ],
          "scattermapbox": [
           {
            "marker": {
             "colorbar": {
              "outlinewidth": 0,
              "ticks": ""
             }
            },
            "type": "scattermapbox"
           }
          ],
          "scatterpolar": [
           {
            "marker": {
             "colorbar": {
              "outlinewidth": 0,
              "ticks": ""
             }
            },
            "type": "scatterpolar"
           }
          ],
          "scatterpolargl": [
           {
            "marker": {
             "colorbar": {
              "outlinewidth": 0,
              "ticks": ""
             }
            },
            "type": "scatterpolargl"
           }
          ],
          "scatterternary": [
           {
            "marker": {
             "colorbar": {
              "outlinewidth": 0,
              "ticks": ""
             }
            },
            "type": "scatterternary"
           }
          ],
          "surface": [
           {
            "colorbar": {
             "outlinewidth": 0,
             "ticks": ""
            },
            "colorscale": [
             [
              0,
              "#0d0887"
             ],
             [
              0.1111111111111111,
              "#46039f"
             ],
             [
              0.2222222222222222,
              "#7201a8"
             ],
             [
              0.3333333333333333,
              "#9c179e"
             ],
             [
              0.4444444444444444,
              "#bd3786"
             ],
             [
              0.5555555555555556,
              "#d8576b"
             ],
             [
              0.6666666666666666,
              "#ed7953"
             ],
             [
              0.7777777777777778,
              "#fb9f3a"
             ],
             [
              0.8888888888888888,
              "#fdca26"
             ],
             [
              1,
              "#f0f921"
             ]
            ],
            "type": "surface"
           }
          ],
          "table": [
           {
            "cells": {
             "fill": {
              "color": "#EBF0F8"
             },
             "line": {
              "color": "white"
             }
            },
            "header": {
             "fill": {
              "color": "#C8D4E3"
             },
             "line": {
              "color": "white"
             }
            },
            "type": "table"
           }
          ]
         },
         "layout": {
          "annotationdefaults": {
           "arrowcolor": "#2a3f5f",
           "arrowhead": 0,
           "arrowwidth": 1
          },
          "coloraxis": {
           "colorbar": {
            "outlinewidth": 0,
            "ticks": ""
           }
          },
          "colorscale": {
           "diverging": [
            [
             0,
             "#8e0152"
            ],
            [
             0.1,
             "#c51b7d"
            ],
            [
             0.2,
             "#de77ae"
            ],
            [
             0.3,
             "#f1b6da"
            ],
            [
             0.4,
             "#fde0ef"
            ],
            [
             0.5,
             "#f7f7f7"
            ],
            [
             0.6,
             "#e6f5d0"
            ],
            [
             0.7,
             "#b8e186"
            ],
            [
             0.8,
             "#7fbc41"
            ],
            [
             0.9,
             "#4d9221"
            ],
            [
             1,
             "#276419"
            ]
           ],
           "sequential": [
            [
             0,
             "#0d0887"
            ],
            [
             0.1111111111111111,
             "#46039f"
            ],
            [
             0.2222222222222222,
             "#7201a8"
            ],
            [
             0.3333333333333333,
             "#9c179e"
            ],
            [
             0.4444444444444444,
             "#bd3786"
            ],
            [
             0.5555555555555556,
             "#d8576b"
            ],
            [
             0.6666666666666666,
             "#ed7953"
            ],
            [
             0.7777777777777778,
             "#fb9f3a"
            ],
            [
             0.8888888888888888,
             "#fdca26"
            ],
            [
             1,
             "#f0f921"
            ]
           ],
           "sequentialminus": [
            [
             0,
             "#0d0887"
            ],
            [
             0.1111111111111111,
             "#46039f"
            ],
            [
             0.2222222222222222,
             "#7201a8"
            ],
            [
             0.3333333333333333,
             "#9c179e"
            ],
            [
             0.4444444444444444,
             "#bd3786"
            ],
            [
             0.5555555555555556,
             "#d8576b"
            ],
            [
             0.6666666666666666,
             "#ed7953"
            ],
            [
             0.7777777777777778,
             "#fb9f3a"
            ],
            [
             0.8888888888888888,
             "#fdca26"
            ],
            [
             1,
             "#f0f921"
            ]
           ]
          },
          "colorway": [
           "#636efa",
           "#EF553B",
           "#00cc96",
           "#ab63fa",
           "#FFA15A",
           "#19d3f3",
           "#FF6692",
           "#B6E880",
           "#FF97FF",
           "#FECB52"
          ],
          "font": {
           "color": "#2a3f5f"
          },
          "geo": {
           "bgcolor": "white",
           "lakecolor": "white",
           "landcolor": "#E5ECF6",
           "showlakes": true,
           "showland": true,
           "subunitcolor": "white"
          },
          "hoverlabel": {
           "align": "left"
          },
          "hovermode": "closest",
          "mapbox": {
           "style": "light"
          },
          "paper_bgcolor": "white",
          "plot_bgcolor": "#E5ECF6",
          "polar": {
           "angularaxis": {
            "gridcolor": "white",
            "linecolor": "white",
            "ticks": ""
           },
           "bgcolor": "#E5ECF6",
           "radialaxis": {
            "gridcolor": "white",
            "linecolor": "white",
            "ticks": ""
           }
          },
          "scene": {
           "xaxis": {
            "backgroundcolor": "#E5ECF6",
            "gridcolor": "white",
            "gridwidth": 2,
            "linecolor": "white",
            "showbackground": true,
            "ticks": "",
            "zerolinecolor": "white"
           },
           "yaxis": {
            "backgroundcolor": "#E5ECF6",
            "gridcolor": "white",
            "gridwidth": 2,
            "linecolor": "white",
            "showbackground": true,
            "ticks": "",
            "zerolinecolor": "white"
           },
           "zaxis": {
            "backgroundcolor": "#E5ECF6",
            "gridcolor": "white",
            "gridwidth": 2,
            "linecolor": "white",
            "showbackground": true,
            "ticks": "",
            "zerolinecolor": "white"
           }
          },
          "shapedefaults": {
           "line": {
            "color": "#2a3f5f"
           }
          },
          "ternary": {
           "aaxis": {
            "gridcolor": "white",
            "linecolor": "white",
            "ticks": ""
           },
           "baxis": {
            "gridcolor": "white",
            "linecolor": "white",
            "ticks": ""
           },
           "bgcolor": "#E5ECF6",
           "caxis": {
            "gridcolor": "white",
            "linecolor": "white",
            "ticks": ""
           }
          },
          "title": {
           "x": 0.05
          },
          "xaxis": {
           "automargin": true,
           "gridcolor": "white",
           "linecolor": "white",
           "ticks": "",
           "title": {
            "standoff": 15
           },
           "zerolinecolor": "white",
           "zerolinewidth": 2
          },
          "yaxis": {
           "automargin": true,
           "gridcolor": "white",
           "linecolor": "white",
           "ticks": "",
           "title": {
            "standoff": 15
           },
           "zerolinecolor": "white",
           "zerolinewidth": 2
          }
         }
        },
        "xaxis": {
         "anchor": "y",
         "domain": [
          0,
          1
         ],
         "title": {
          "text": "Cluster Predicted"
         }
        },
        "yaxis": {
         "anchor": "x",
         "domain": [
          0,
          1
         ],
         "title": {
          "text": "count"
         }
        }
       }
      },
      "text/html": [
       "<div>                            <div id=\"b152cfb6-a704-43b5-8bfe-fe4f168cfba1\" class=\"plotly-graph-div\" style=\"height:400px; width:100%;\"></div>            <script type=\"text/javascript\">                require([\"plotly\"], function(Plotly) {                    window.PLOTLYENV=window.PLOTLYENV || {};                                    if (document.getElementById(\"b152cfb6-a704-43b5-8bfe-fe4f168cfba1\")) {                    Plotly.newPlot(                        \"b152cfb6-a704-43b5-8bfe-fe4f168cfba1\",                        [{\"alignmentgroup\": \"True\", \"hovertemplate\": \"Trial_Duration_Category=1 - 2 years<br>Cluster Predicted=%{x}<br>count=%{y}<extra></extra>\", \"legendgroup\": \"1 - 2 years\", \"marker\": {\"color\": \"#636efa\"}, \"name\": \"1 - 2 years\", \"offsetgroup\": \"1 - 2 years\", \"orientation\": \"v\", \"showlegend\": true, \"textposition\": \"auto\", \"type\": \"bar\", \"x\": [0, 1, 2, 3, 4], \"xaxis\": \"x\", \"y\": [244, 304, 76, 65, 95], \"yaxis\": \"y\"}, {\"alignmentgroup\": \"True\", \"hovertemplate\": \"Trial_Duration_Category=1 - 3 months<br>Cluster Predicted=%{x}<br>count=%{y}<extra></extra>\", \"legendgroup\": \"1 - 3 months\", \"marker\": {\"color\": \"#EF553B\"}, \"name\": \"1 - 3 months\", \"offsetgroup\": \"1 - 3 months\", \"orientation\": \"v\", \"showlegend\": true, \"textposition\": \"auto\", \"type\": \"bar\", \"x\": [0, 1, 2, 3, 4], \"xaxis\": \"x\", \"y\": [424, 201, 13, 88, 107], \"yaxis\": \"y\"}, {\"alignmentgroup\": \"True\", \"hovertemplate\": \"Trial_Duration_Category=2 - 5 years<br>Cluster Predicted=%{x}<br>count=%{y}<extra></extra>\", \"legendgroup\": \"2 - 5 years\", \"marker\": {\"color\": \"#00cc96\"}, \"name\": \"2 - 5 years\", \"offsetgroup\": \"2 - 5 years\", \"orientation\": \"v\", \"showlegend\": true, \"textposition\": \"auto\", \"type\": \"bar\", \"x\": [0, 1, 2, 3, 4], \"xaxis\": \"x\", \"y\": [110, 39, 36, 27, 51], \"yaxis\": \"y\"}, {\"alignmentgroup\": \"True\", \"hovertemplate\": \"Trial_Duration_Category=4 - 6 months<br>Cluster Predicted=%{x}<br>count=%{y}<extra></extra>\", \"legendgroup\": \"4 - 6 months\", \"marker\": {\"color\": \"#ab63fa\"}, \"name\": \"4 - 6 months\", \"offsetgroup\": \"4 - 6 months\", \"orientation\": \"v\", \"showlegend\": true, \"textposition\": \"auto\", \"type\": \"bar\", \"x\": [0, 1, 2, 3, 4], \"xaxis\": \"x\", \"y\": [195, 214, 67, 88, 182], \"yaxis\": \"y\"}, {\"alignmentgroup\": \"True\", \"hovertemplate\": \"Trial_Duration_Category=5 - 10 years<br>Cluster Predicted=%{x}<br>count=%{y}<extra></extra>\", \"legendgroup\": \"5 - 10 years\", \"marker\": {\"color\": \"#FFA15A\"}, \"name\": \"5 - 10 years\", \"offsetgroup\": \"5 - 10 years\", \"orientation\": \"v\", \"showlegend\": true, \"textposition\": \"auto\", \"type\": \"bar\", \"x\": [0, 1, 2, 3, 4], \"xaxis\": \"x\", \"y\": [13, 5, 7, 6, 2], \"yaxis\": \"y\"}, {\"alignmentgroup\": \"True\", \"hovertemplate\": \"Trial_Duration_Category=7 - 12 months<br>Cluster Predicted=%{x}<br>count=%{y}<extra></extra>\", \"legendgroup\": \"7 - 12 months\", \"marker\": {\"color\": \"#19d3f3\"}, \"name\": \"7 - 12 months\", \"offsetgroup\": \"7 - 12 months\", \"orientation\": \"v\", \"showlegend\": true, \"textposition\": \"auto\", \"type\": \"bar\", \"x\": [0, 1, 2, 3, 4], \"xaxis\": \"x\", \"y\": [101, 133, 282, 174, 370], \"yaxis\": \"y\"}, {\"alignmentgroup\": \"True\", \"hovertemplate\": \"Trial_Duration_Category=NO RECORD<br>Cluster Predicted=%{x}<br>count=%{y}<extra></extra>\", \"legendgroup\": \"NO RECORD\", \"marker\": {\"color\": \"#FF6692\"}, \"name\": \"NO RECORD\", \"offsetgroup\": \"NO RECORD\", \"orientation\": \"v\", \"showlegend\": true, \"textposition\": \"auto\", \"type\": \"bar\", \"x\": [0, 2], \"xaxis\": \"x\", \"y\": [27, 1], \"yaxis\": \"y\"}, {\"alignmentgroup\": \"True\", \"hovertemplate\": \"Trial_Duration_Category=less then 1 month<br>Cluster Predicted=%{x}<br>count=%{y}<extra></extra>\", \"legendgroup\": \"less then 1 month\", \"marker\": {\"color\": \"#B6E880\"}, \"name\": \"less then 1 month\", \"offsetgroup\": \"less then 1 month\", \"orientation\": \"v\", \"showlegend\": true, \"textposition\": \"auto\", \"type\": \"bar\", \"x\": [0, 1, 2, 3, 4], \"xaxis\": \"x\", \"y\": [46, 21, 9, 8, 2], \"yaxis\": \"y\"}, {\"alignmentgroup\": \"True\", \"hovertemplate\": \"Trial_Duration_Category=over 10 years<br>Cluster Predicted=%{x}<br>count=%{y}<extra></extra>\", \"legendgroup\": \"over 10 years\", \"marker\": {\"color\": \"#FF97FF\"}, \"name\": \"over 10 years\", \"offsetgroup\": \"over 10 years\", \"orientation\": \"v\", \"showlegend\": true, \"textposition\": \"auto\", \"type\": \"bar\", \"x\": [0, 1, 2, 4], \"xaxis\": \"x\", \"y\": [9, 3, 2, 2], \"yaxis\": \"y\"}],                        {\"barmode\": \"group\", \"height\": 400, \"legend\": {\"title\": {\"text\": \"Trial_Duration_Category\"}, \"tracegroupgap\": 0}, \"margin\": {\"t\": 60}, \"template\": {\"data\": {\"bar\": [{\"error_x\": {\"color\": \"#2a3f5f\"}, \"error_y\": {\"color\": \"#2a3f5f\"}, \"marker\": {\"line\": {\"color\": \"#E5ECF6\", \"width\": 0.5}}, \"type\": \"bar\"}], \"barpolar\": [{\"marker\": {\"line\": {\"color\": \"#E5ECF6\", \"width\": 0.5}}, \"type\": \"barpolar\"}], \"carpet\": [{\"aaxis\": {\"endlinecolor\": \"#2a3f5f\", \"gridcolor\": \"white\", \"linecolor\": \"white\", \"minorgridcolor\": \"white\", \"startlinecolor\": \"#2a3f5f\"}, \"baxis\": {\"endlinecolor\": \"#2a3f5f\", \"gridcolor\": \"white\", \"linecolor\": \"white\", \"minorgridcolor\": \"white\", \"startlinecolor\": \"#2a3f5f\"}, \"type\": \"carpet\"}], \"choropleth\": [{\"colorbar\": {\"outlinewidth\": 0, \"ticks\": \"\"}, \"type\": \"choropleth\"}], \"contour\": [{\"colorbar\": {\"outlinewidth\": 0, \"ticks\": \"\"}, \"colorscale\": [[0.0, \"#0d0887\"], [0.1111111111111111, \"#46039f\"], [0.2222222222222222, \"#7201a8\"], [0.3333333333333333, \"#9c179e\"], [0.4444444444444444, \"#bd3786\"], [0.5555555555555556, \"#d8576b\"], [0.6666666666666666, \"#ed7953\"], [0.7777777777777778, \"#fb9f3a\"], [0.8888888888888888, \"#fdca26\"], [1.0, \"#f0f921\"]], \"type\": \"contour\"}], \"contourcarpet\": [{\"colorbar\": {\"outlinewidth\": 0, \"ticks\": \"\"}, \"type\": \"contourcarpet\"}], \"heatmap\": [{\"colorbar\": {\"outlinewidth\": 0, \"ticks\": \"\"}, \"colorscale\": [[0.0, \"#0d0887\"], [0.1111111111111111, \"#46039f\"], [0.2222222222222222, \"#7201a8\"], [0.3333333333333333, \"#9c179e\"], [0.4444444444444444, \"#bd3786\"], [0.5555555555555556, \"#d8576b\"], [0.6666666666666666, \"#ed7953\"], [0.7777777777777778, \"#fb9f3a\"], [0.8888888888888888, \"#fdca26\"], [1.0, \"#f0f921\"]], \"type\": \"heatmap\"}], \"heatmapgl\": [{\"colorbar\": {\"outlinewidth\": 0, \"ticks\": \"\"}, \"colorscale\": [[0.0, \"#0d0887\"], [0.1111111111111111, \"#46039f\"], [0.2222222222222222, \"#7201a8\"], [0.3333333333333333, \"#9c179e\"], [0.4444444444444444, \"#bd3786\"], [0.5555555555555556, \"#d8576b\"], [0.6666666666666666, \"#ed7953\"], [0.7777777777777778, \"#fb9f3a\"], [0.8888888888888888, \"#fdca26\"], [1.0, \"#f0f921\"]], \"type\": \"heatmapgl\"}], \"histogram\": [{\"marker\": {\"colorbar\": {\"outlinewidth\": 0, \"ticks\": \"\"}}, \"type\": \"histogram\"}], \"histogram2d\": [{\"colorbar\": {\"outlinewidth\": 0, \"ticks\": \"\"}, \"colorscale\": [[0.0, \"#0d0887\"], [0.1111111111111111, \"#46039f\"], [0.2222222222222222, \"#7201a8\"], [0.3333333333333333, \"#9c179e\"], [0.4444444444444444, \"#bd3786\"], [0.5555555555555556, \"#d8576b\"], [0.6666666666666666, \"#ed7953\"], [0.7777777777777778, \"#fb9f3a\"], [0.8888888888888888, \"#fdca26\"], [1.0, \"#f0f921\"]], \"type\": \"histogram2d\"}], \"histogram2dcontour\": [{\"colorbar\": {\"outlinewidth\": 0, \"ticks\": \"\"}, \"colorscale\": [[0.0, \"#0d0887\"], [0.1111111111111111, \"#46039f\"], [0.2222222222222222, \"#7201a8\"], [0.3333333333333333, \"#9c179e\"], [0.4444444444444444, \"#bd3786\"], [0.5555555555555556, \"#d8576b\"], [0.6666666666666666, \"#ed7953\"], [0.7777777777777778, \"#fb9f3a\"], [0.8888888888888888, \"#fdca26\"], [1.0, \"#f0f921\"]], \"type\": \"histogram2dcontour\"}], \"mesh3d\": [{\"colorbar\": {\"outlinewidth\": 0, \"ticks\": \"\"}, \"type\": \"mesh3d\"}], \"parcoords\": [{\"line\": {\"colorbar\": {\"outlinewidth\": 0, \"ticks\": \"\"}}, \"type\": \"parcoords\"}], \"pie\": [{\"automargin\": true, \"type\": \"pie\"}], \"scatter\": [{\"marker\": {\"colorbar\": {\"outlinewidth\": 0, \"ticks\": \"\"}}, \"type\": \"scatter\"}], \"scatter3d\": [{\"line\": {\"colorbar\": {\"outlinewidth\": 0, \"ticks\": \"\"}}, \"marker\": {\"colorbar\": {\"outlinewidth\": 0, \"ticks\": \"\"}}, \"type\": \"scatter3d\"}], \"scattercarpet\": [{\"marker\": {\"colorbar\": {\"outlinewidth\": 0, \"ticks\": \"\"}}, \"type\": \"scattercarpet\"}], \"scattergeo\": [{\"marker\": {\"colorbar\": {\"outlinewidth\": 0, \"ticks\": \"\"}}, \"type\": \"scattergeo\"}], \"scattergl\": [{\"marker\": {\"colorbar\": {\"outlinewidth\": 0, \"ticks\": \"\"}}, \"type\": \"scattergl\"}], \"scattermapbox\": [{\"marker\": {\"colorbar\": {\"outlinewidth\": 0, \"ticks\": \"\"}}, \"type\": \"scattermapbox\"}], \"scatterpolar\": [{\"marker\": {\"colorbar\": {\"outlinewidth\": 0, \"ticks\": \"\"}}, \"type\": \"scatterpolar\"}], \"scatterpolargl\": [{\"marker\": {\"colorbar\": {\"outlinewidth\": 0, \"ticks\": \"\"}}, \"type\": \"scatterpolargl\"}], \"scatterternary\": [{\"marker\": {\"colorbar\": {\"outlinewidth\": 0, \"ticks\": \"\"}}, \"type\": \"scatterternary\"}], \"surface\": [{\"colorbar\": {\"outlinewidth\": 0, \"ticks\": \"\"}, \"colorscale\": [[0.0, \"#0d0887\"], [0.1111111111111111, \"#46039f\"], [0.2222222222222222, \"#7201a8\"], [0.3333333333333333, \"#9c179e\"], [0.4444444444444444, \"#bd3786\"], [0.5555555555555556, \"#d8576b\"], [0.6666666666666666, \"#ed7953\"], [0.7777777777777778, \"#fb9f3a\"], [0.8888888888888888, \"#fdca26\"], [1.0, \"#f0f921\"]], \"type\": \"surface\"}], \"table\": [{\"cells\": {\"fill\": {\"color\": \"#EBF0F8\"}, \"line\": {\"color\": \"white\"}}, \"header\": {\"fill\": {\"color\": \"#C8D4E3\"}, \"line\": {\"color\": \"white\"}}, \"type\": \"table\"}]}, \"layout\": {\"annotationdefaults\": {\"arrowcolor\": \"#2a3f5f\", \"arrowhead\": 0, \"arrowwidth\": 1}, \"coloraxis\": {\"colorbar\": {\"outlinewidth\": 0, \"ticks\": \"\"}}, \"colorscale\": {\"diverging\": [[0, \"#8e0152\"], [0.1, \"#c51b7d\"], [0.2, \"#de77ae\"], [0.3, \"#f1b6da\"], [0.4, \"#fde0ef\"], [0.5, \"#f7f7f7\"], [0.6, \"#e6f5d0\"], [0.7, \"#b8e186\"], [0.8, \"#7fbc41\"], [0.9, \"#4d9221\"], [1, \"#276419\"]], \"sequential\": [[0.0, \"#0d0887\"], [0.1111111111111111, \"#46039f\"], [0.2222222222222222, \"#7201a8\"], [0.3333333333333333, \"#9c179e\"], [0.4444444444444444, \"#bd3786\"], [0.5555555555555556, \"#d8576b\"], [0.6666666666666666, \"#ed7953\"], [0.7777777777777778, \"#fb9f3a\"], [0.8888888888888888, \"#fdca26\"], [1.0, \"#f0f921\"]], \"sequentialminus\": [[0.0, \"#0d0887\"], [0.1111111111111111, \"#46039f\"], [0.2222222222222222, \"#7201a8\"], [0.3333333333333333, \"#9c179e\"], [0.4444444444444444, \"#bd3786\"], [0.5555555555555556, \"#d8576b\"], [0.6666666666666666, \"#ed7953\"], [0.7777777777777778, \"#fb9f3a\"], [0.8888888888888888, \"#fdca26\"], [1.0, \"#f0f921\"]]}, \"colorway\": [\"#636efa\", \"#EF553B\", \"#00cc96\", \"#ab63fa\", \"#FFA15A\", \"#19d3f3\", \"#FF6692\", \"#B6E880\", \"#FF97FF\", \"#FECB52\"], \"font\": {\"color\": \"#2a3f5f\"}, \"geo\": {\"bgcolor\": \"white\", \"lakecolor\": \"white\", \"landcolor\": \"#E5ECF6\", \"showlakes\": true, \"showland\": true, \"subunitcolor\": \"white\"}, \"hoverlabel\": {\"align\": \"left\"}, \"hovermode\": \"closest\", \"mapbox\": {\"style\": \"light\"}, \"paper_bgcolor\": \"white\", \"plot_bgcolor\": \"#E5ECF6\", \"polar\": {\"angularaxis\": {\"gridcolor\": \"white\", \"linecolor\": \"white\", \"ticks\": \"\"}, \"bgcolor\": \"#E5ECF6\", \"radialaxis\": {\"gridcolor\": \"white\", \"linecolor\": \"white\", \"ticks\": \"\"}}, \"scene\": {\"xaxis\": {\"backgroundcolor\": \"#E5ECF6\", \"gridcolor\": \"white\", \"gridwidth\": 2, \"linecolor\": \"white\", \"showbackground\": true, \"ticks\": \"\", \"zerolinecolor\": \"white\"}, \"yaxis\": {\"backgroundcolor\": \"#E5ECF6\", \"gridcolor\": \"white\", \"gridwidth\": 2, \"linecolor\": \"white\", \"showbackground\": true, \"ticks\": \"\", \"zerolinecolor\": \"white\"}, \"zaxis\": {\"backgroundcolor\": \"#E5ECF6\", \"gridcolor\": \"white\", \"gridwidth\": 2, \"linecolor\": \"white\", \"showbackground\": true, \"ticks\": \"\", \"zerolinecolor\": \"white\"}}, \"shapedefaults\": {\"line\": {\"color\": \"#2a3f5f\"}}, \"ternary\": {\"aaxis\": {\"gridcolor\": \"white\", \"linecolor\": \"white\", \"ticks\": \"\"}, \"baxis\": {\"gridcolor\": \"white\", \"linecolor\": \"white\", \"ticks\": \"\"}, \"bgcolor\": \"#E5ECF6\", \"caxis\": {\"gridcolor\": \"white\", \"linecolor\": \"white\", \"ticks\": \"\"}}, \"title\": {\"x\": 0.05}, \"xaxis\": {\"automargin\": true, \"gridcolor\": \"white\", \"linecolor\": \"white\", \"ticks\": \"\", \"title\": {\"standoff\": 15}, \"zerolinecolor\": \"white\", \"zerolinewidth\": 2}, \"yaxis\": {\"automargin\": true, \"gridcolor\": \"white\", \"linecolor\": \"white\", \"ticks\": \"\", \"title\": {\"standoff\": 15}, \"zerolinecolor\": \"white\", \"zerolinewidth\": 2}}}, \"xaxis\": {\"anchor\": \"y\", \"domain\": [0.0, 1.0], \"title\": {\"text\": \"Cluster Predicted\"}}, \"yaxis\": {\"anchor\": \"x\", \"domain\": [0.0, 1.0], \"title\": {\"text\": \"count\"}}},                        {\"responsive\": true}                    ).then(function(){\n",
       "                            \n",
       "var gd = document.getElementById('b152cfb6-a704-43b5-8bfe-fe4f168cfba1');\n",
       "var x = new MutationObserver(function (mutations, observer) {{\n",
       "        var display = window.getComputedStyle(gd).display;\n",
       "        if (!display || display === 'none') {{\n",
       "            console.log([gd, 'removed!']);\n",
       "            Plotly.purge(gd);\n",
       "            observer.disconnect();\n",
       "        }}\n",
       "}});\n",
       "\n",
       "// Listen for the removal of the full notebook cells\n",
       "var notebookContainer = gd.closest('#notebook-container');\n",
       "if (notebookContainer) {{\n",
       "    x.observe(notebookContainer, {childList: true});\n",
       "}}\n",
       "\n",
       "// Listen for the clearing of the current output cell\n",
       "var outputEl = gd.closest('.output');\n",
       "if (outputEl) {{\n",
       "    x.observe(outputEl, {childList: true});\n",
       "}}\n",
       "\n",
       "                        })                };                });            </script>        </div>"
      ]
     },
     "metadata": {},
     "output_type": "display_data"
    }
   ],
   "source": [
    "px.bar(dfm , x=\"Cluster Predicted\", y=\"count\", color=col,barmode='group',height=400)"
   ]
  },
  {
   "cell_type": "markdown",
   "metadata": {},
   "source": [
    "### maybe a heatmap?"
   ]
  },
  {
   "cell_type": "code",
   "execution_count": null,
   "metadata": {},
   "outputs": [],
   "source": []
  }
 ],
 "metadata": {
  "kernelspec": {
   "display_name": "Python 3",
   "language": "python",
   "name": "python3"
  },
  "language_info": {
   "codemirror_mode": {
    "name": "ipython",
    "version": 3
   },
   "file_extension": ".py",
   "mimetype": "text/x-python",
   "name": "python",
   "nbconvert_exporter": "python",
   "pygments_lexer": "ipython3",
   "version": "3.8.3"
  }
 },
 "nbformat": 4,
 "nbformat_minor": 4
}
