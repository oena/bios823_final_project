{
 "cells": [
  {
   "cell_type": "markdown",
   "metadata": {},
   "source": [
    "# Exploratory Data Analysis"
   ]
  },
  {
   "cell_type": "code",
   "execution_count": 2,
   "metadata": {},
   "outputs": [],
   "source": [
    "import pandas as pd"
   ]
  },
  {
   "cell_type": "code",
   "execution_count": 21,
   "metadata": {},
   "outputs": [],
   "source": [
    "pd.set_option('display.max_columns', None)\n",
    "pd.set_option('display.max_rows', None)\n",
    "all_data = pd.read_csv(\"~/work/ym/SearchResults.tsv\", sep=\"\\t\")"
   ]
  },
  {
   "cell_type": "code",
   "execution_count": 22,
   "metadata": {
    "scrolled": true
   },
   "outputs": [
    {
     "data": {
      "text/plain": [
       "(3422, 27)"
      ]
     },
     "execution_count": 22,
     "metadata": {},
     "output_type": "execute_result"
    }
   ],
   "source": [
    "all_data.shape"
   ]
  },
  {
   "cell_type": "code",
   "execution_count": 14,
   "metadata": {},
   "outputs": [
    {
     "data": {
      "text/html": [
       "<div>\n",
       "<style scoped>\n",
       "    .dataframe tbody tr th:only-of-type {\n",
       "        vertical-align: middle;\n",
       "    }\n",
       "\n",
       "    .dataframe tbody tr th {\n",
       "        vertical-align: top;\n",
       "    }\n",
       "\n",
       "    .dataframe thead th {\n",
       "        text-align: right;\n",
       "    }\n",
       "</style>\n",
       "<table border=\"1\" class=\"dataframe\">\n",
       "  <thead>\n",
       "    <tr style=\"text-align: right;\">\n",
       "      <th></th>\n",
       "      <th>Rank</th>\n",
       "      <th>NCT Number</th>\n",
       "      <th>Title</th>\n",
       "      <th>Acronym</th>\n",
       "      <th>Status</th>\n",
       "      <th>Study Results</th>\n",
       "      <th>Conditions</th>\n",
       "      <th>Interventions</th>\n",
       "      <th>Outcome Measures</th>\n",
       "      <th>Sponsor/Collaborators</th>\n",
       "      <th>Gender</th>\n",
       "      <th>Age</th>\n",
       "      <th>Phases</th>\n",
       "      <th>Enrollment</th>\n",
       "      <th>Funded Bys</th>\n",
       "      <th>Study Type</th>\n",
       "      <th>Study Designs</th>\n",
       "      <th>Other IDs</th>\n",
       "      <th>Start Date</th>\n",
       "      <th>Primary Completion Date</th>\n",
       "      <th>Completion Date</th>\n",
       "      <th>First Posted</th>\n",
       "      <th>Results First Posted</th>\n",
       "      <th>Last Update Posted</th>\n",
       "      <th>Locations</th>\n",
       "      <th>Study Documents</th>\n",
       "      <th>URL</th>\n",
       "    </tr>\n",
       "  </thead>\n",
       "  <tbody>\n",
       "    <tr>\n",
       "      <th>0</th>\n",
       "      <td>1</td>\n",
       "      <td>NCT04372602</td>\n",
       "      <td>Duvelisib to Combat COVID-19</td>\n",
       "      <td>NaN</td>\n",
       "      <td>Not yet recruiting</td>\n",
       "      <td>No Results Available</td>\n",
       "      <td>COVID-19</td>\n",
       "      <td>Drug: Duvelisib|Procedure: Peripheral blood dr...</td>\n",
       "      <td>Overall survival|Length of hospital stay|Lengt...</td>\n",
       "      <td>Washington University School of Medicine|Veras...</td>\n",
       "      <td>All</td>\n",
       "      <td>18 Years and older   (Adult, Older Adult)</td>\n",
       "      <td>Phase 2</td>\n",
       "      <td>28.0</td>\n",
       "      <td>Other|Industry</td>\n",
       "      <td>Interventional</td>\n",
       "      <td>Allocation: Randomized|Intervention Model: Sin...</td>\n",
       "      <td>202007009</td>\n",
       "      <td>September 30, 2020</td>\n",
       "      <td>October 31, 2021</td>\n",
       "      <td>March 31, 2022</td>\n",
       "      <td>May 4, 2020</td>\n",
       "      <td>NaN</td>\n",
       "      <td>September 10, 2020</td>\n",
       "      <td>Washington University School of Medicine, Sain...</td>\n",
       "      <td>NaN</td>\n",
       "      <td>https://ClinicalTrials.gov/show/NCT04372602</td>\n",
       "    </tr>\n",
       "    <tr>\n",
       "      <th>1</th>\n",
       "      <td>2</td>\n",
       "      <td>NCT04364698</td>\n",
       "      <td>Observational Cohort of COVID-19 Patients at R...</td>\n",
       "      <td>COVID-RPC</td>\n",
       "      <td>Recruiting</td>\n",
       "      <td>No Results Available</td>\n",
       "      <td>COVID-19</td>\n",
       "      <td>NaN</td>\n",
       "      <td>clinical, biological and radiological characte...</td>\n",
       "      <td>Assistance Publique - Hôpitaux de Paris</td>\n",
       "      <td>All</td>\n",
       "      <td>18 Years and older   (Adult, Older Adult)</td>\n",
       "      <td>NaN</td>\n",
       "      <td>500.0</td>\n",
       "      <td>Other</td>\n",
       "      <td>Observational</td>\n",
       "      <td>Observational Model: Cohort|Time Perspective: ...</td>\n",
       "      <td>20SBS-COVID-RPC</td>\n",
       "      <td>May 7, 2020</td>\n",
       "      <td>June 2020</td>\n",
       "      <td>June 2020</td>\n",
       "      <td>April 28, 2020</td>\n",
       "      <td>NaN</td>\n",
       "      <td>May 14, 2020</td>\n",
       "      <td>Department of Infectiology, Raymond Poincaré H...</td>\n",
       "      <td>NaN</td>\n",
       "      <td>https://ClinicalTrials.gov/show/NCT04364698</td>\n",
       "    </tr>\n",
       "    <tr>\n",
       "      <th>2</th>\n",
       "      <td>3</td>\n",
       "      <td>NCT04482621</td>\n",
       "      <td>Decitabine for Coronavirus (COVID-19) Pneumoni...</td>\n",
       "      <td>DART</td>\n",
       "      <td>Recruiting</td>\n",
       "      <td>No Results Available</td>\n",
       "      <td>COVID-19</td>\n",
       "      <td>Drug: Decitabine|Other: Placebo Saline</td>\n",
       "      <td>Change in clinical state as assessed by a 6-po...</td>\n",
       "      <td>Johns Hopkins University</td>\n",
       "      <td>All</td>\n",
       "      <td>18 Years and older   (Adult, Older Adult)</td>\n",
       "      <td>Phase 2</td>\n",
       "      <td>40.0</td>\n",
       "      <td>Other</td>\n",
       "      <td>Interventional</td>\n",
       "      <td>Allocation: Randomized|Intervention Model: Par...</td>\n",
       "      <td>IRB00247544</td>\n",
       "      <td>August 31, 2020</td>\n",
       "      <td>January 2021</td>\n",
       "      <td>July 2021</td>\n",
       "      <td>July 22, 2020</td>\n",
       "      <td>NaN</td>\n",
       "      <td>August 18, 2020</td>\n",
       "      <td>Johns Hopkins University, Baltimore, Maryland,...</td>\n",
       "      <td>NaN</td>\n",
       "      <td>https://ClinicalTrials.gov/show/NCT04482621</td>\n",
       "    </tr>\n",
       "    <tr>\n",
       "      <th>3</th>\n",
       "      <td>4</td>\n",
       "      <td>NCT04459637</td>\n",
       "      <td>COVID-19 Surveillance Based on Smart Wearable ...</td>\n",
       "      <td>COVID-19SWD</td>\n",
       "      <td>Not yet recruiting</td>\n",
       "      <td>No Results Available</td>\n",
       "      <td>COVID-19</td>\n",
       "      <td>NaN</td>\n",
       "      <td>Deterioration of the condition|Mortality|The i...</td>\n",
       "      <td>Peking University First Hospital</td>\n",
       "      <td>All</td>\n",
       "      <td>18 Years to 75 Years   (Adult, Older Adult)</td>\n",
       "      <td>NaN</td>\n",
       "      <td>200.0</td>\n",
       "      <td>Other</td>\n",
       "      <td>Observational</td>\n",
       "      <td>Observational Model: Cohort|Time Perspective: ...</td>\n",
       "      <td>2020055-0615</td>\n",
       "      <td>July 1, 2020</td>\n",
       "      <td>March 10, 2021</td>\n",
       "      <td>March 10, 2021</td>\n",
       "      <td>July 7, 2020</td>\n",
       "      <td>NaN</td>\n",
       "      <td>July 7, 2020</td>\n",
       "      <td>Peking University First Hospital, Beijing, Bei...</td>\n",
       "      <td>NaN</td>\n",
       "      <td>https://ClinicalTrials.gov/show/NCT04459637</td>\n",
       "    </tr>\n",
       "    <tr>\n",
       "      <th>4</th>\n",
       "      <td>5</td>\n",
       "      <td>NCT04425538</td>\n",
       "      <td>A Phase 2 Trial of Infliximab in Coronavirus D...</td>\n",
       "      <td>NaN</td>\n",
       "      <td>Recruiting</td>\n",
       "      <td>No Results Available</td>\n",
       "      <td>COVID-19</td>\n",
       "      <td>Drug: Infliximab</td>\n",
       "      <td>Time to improvement in oxygenation|28-day mort...</td>\n",
       "      <td>Tufts Medical Center|National Institutes of He...</td>\n",
       "      <td>All</td>\n",
       "      <td>18 Years and older   (Adult, Older Adult)</td>\n",
       "      <td>Phase 2</td>\n",
       "      <td>17.0</td>\n",
       "      <td>Other|NIH</td>\n",
       "      <td>Interventional</td>\n",
       "      <td>Allocation: N/A|Intervention Model: Single Gro...</td>\n",
       "      <td>STUDY00000564</td>\n",
       "      <td>June 1, 2020</td>\n",
       "      <td>September 2020</td>\n",
       "      <td>December 2020</td>\n",
       "      <td>June 11, 2020</td>\n",
       "      <td>NaN</td>\n",
       "      <td>June 11, 2020</td>\n",
       "      <td>Tufts Medical Center, Boston, Massachusetts, U...</td>\n",
       "      <td>NaN</td>\n",
       "      <td>https://ClinicalTrials.gov/show/NCT04425538</td>\n",
       "    </tr>\n",
       "  </tbody>\n",
       "</table>\n",
       "</div>"
      ],
      "text/plain": [
       "   Rank   NCT Number                                              Title  \\\n",
       "0     1  NCT04372602                       Duvelisib to Combat COVID-19   \n",
       "1     2  NCT04364698  Observational Cohort of COVID-19 Patients at R...   \n",
       "2     3  NCT04482621  Decitabine for Coronavirus (COVID-19) Pneumoni...   \n",
       "3     4  NCT04459637  COVID-19 Surveillance Based on Smart Wearable ...   \n",
       "4     5  NCT04425538  A Phase 2 Trial of Infliximab in Coronavirus D...   \n",
       "\n",
       "       Acronym              Status         Study Results Conditions  \\\n",
       "0          NaN  Not yet recruiting  No Results Available   COVID-19   \n",
       "1    COVID-RPC          Recruiting  No Results Available   COVID-19   \n",
       "2         DART          Recruiting  No Results Available   COVID-19   \n",
       "3  COVID-19SWD  Not yet recruiting  No Results Available   COVID-19   \n",
       "4          NaN          Recruiting  No Results Available   COVID-19   \n",
       "\n",
       "                                       Interventions  \\\n",
       "0  Drug: Duvelisib|Procedure: Peripheral blood dr...   \n",
       "1                                                NaN   \n",
       "2             Drug: Decitabine|Other: Placebo Saline   \n",
       "3                                                NaN   \n",
       "4                                   Drug: Infliximab   \n",
       "\n",
       "                                    Outcome Measures  \\\n",
       "0  Overall survival|Length of hospital stay|Lengt...   \n",
       "1  clinical, biological and radiological characte...   \n",
       "2  Change in clinical state as assessed by a 6-po...   \n",
       "3  Deterioration of the condition|Mortality|The i...   \n",
       "4  Time to improvement in oxygenation|28-day mort...   \n",
       "\n",
       "                               Sponsor/Collaborators Gender  \\\n",
       "0  Washington University School of Medicine|Veras...    All   \n",
       "1            Assistance Publique - Hôpitaux de Paris    All   \n",
       "2                           Johns Hopkins University    All   \n",
       "3                   Peking University First Hospital    All   \n",
       "4  Tufts Medical Center|National Institutes of He...    All   \n",
       "\n",
       "                                           Age   Phases  Enrollment  \\\n",
       "0    18 Years and older   (Adult, Older Adult)  Phase 2        28.0   \n",
       "1    18 Years and older   (Adult, Older Adult)      NaN       500.0   \n",
       "2    18 Years and older   (Adult, Older Adult)  Phase 2        40.0   \n",
       "3  18 Years to 75 Years   (Adult, Older Adult)      NaN       200.0   \n",
       "4    18 Years and older   (Adult, Older Adult)  Phase 2        17.0   \n",
       "\n",
       "       Funded Bys      Study Type  \\\n",
       "0  Other|Industry  Interventional   \n",
       "1           Other   Observational   \n",
       "2           Other  Interventional   \n",
       "3           Other   Observational   \n",
       "4       Other|NIH  Interventional   \n",
       "\n",
       "                                       Study Designs        Other IDs  \\\n",
       "0  Allocation: Randomized|Intervention Model: Sin...        202007009   \n",
       "1  Observational Model: Cohort|Time Perspective: ...  20SBS-COVID-RPC   \n",
       "2  Allocation: Randomized|Intervention Model: Par...      IRB00247544   \n",
       "3  Observational Model: Cohort|Time Perspective: ...     2020055-0615   \n",
       "4  Allocation: N/A|Intervention Model: Single Gro...    STUDY00000564   \n",
       "\n",
       "           Start Date Primary Completion Date Completion Date    First Posted  \\\n",
       "0  September 30, 2020        October 31, 2021  March 31, 2022     May 4, 2020   \n",
       "1         May 7, 2020               June 2020       June 2020  April 28, 2020   \n",
       "2     August 31, 2020            January 2021       July 2021   July 22, 2020   \n",
       "3        July 1, 2020          March 10, 2021  March 10, 2021    July 7, 2020   \n",
       "4        June 1, 2020          September 2020   December 2020   June 11, 2020   \n",
       "\n",
       "  Results First Posted  Last Update Posted  \\\n",
       "0                  NaN  September 10, 2020   \n",
       "1                  NaN        May 14, 2020   \n",
       "2                  NaN     August 18, 2020   \n",
       "3                  NaN        July 7, 2020   \n",
       "4                  NaN       June 11, 2020   \n",
       "\n",
       "                                           Locations Study Documents  \\\n",
       "0  Washington University School of Medicine, Sain...             NaN   \n",
       "1  Department of Infectiology, Raymond Poincaré H...             NaN   \n",
       "2  Johns Hopkins University, Baltimore, Maryland,...             NaN   \n",
       "3  Peking University First Hospital, Beijing, Bei...             NaN   \n",
       "4  Tufts Medical Center, Boston, Massachusetts, U...             NaN   \n",
       "\n",
       "                                           URL  \n",
       "0  https://ClinicalTrials.gov/show/NCT04372602  \n",
       "1  https://ClinicalTrials.gov/show/NCT04364698  \n",
       "2  https://ClinicalTrials.gov/show/NCT04482621  \n",
       "3  https://ClinicalTrials.gov/show/NCT04459637  \n",
       "4  https://ClinicalTrials.gov/show/NCT04425538  "
      ]
     },
     "execution_count": 14,
     "metadata": {},
     "output_type": "execute_result"
    }
   ],
   "source": [
    "all_data.head(5)"
   ]
  },
  {
   "cell_type": "markdown",
   "metadata": {},
   "source": [
    "## Now we will focus on the expected duration of clinical trials"
   ]
  },
  {
   "cell_type": "code",
   "execution_count": 47,
   "metadata": {},
   "outputs": [
    {
     "data": {
      "text/plain": [
       "'September 30, 2020'"
      ]
     },
     "execution_count": 47,
     "metadata": {},
     "output_type": "execute_result"
    }
   ],
   "source": [
    "all_data['Start Date'][0]"
   ]
  },
  {
   "cell_type": "code",
   "execution_count": 29,
   "metadata": {
    "scrolled": false
   },
   "outputs": [
    {
     "data": {
      "text/plain": [
       "(3397, 2)"
      ]
     },
     "execution_count": 29,
     "metadata": {},
     "output_type": "execute_result"
    }
   ],
   "source": [
    "start_end = pd.DataFrame(all_data, columns = [\"Start Date\", \"Completion Date\"]).dropna()\n",
    "start_end.shape"
   ]
  },
  {
   "cell_type": "code",
   "execution_count": 55,
   "metadata": {},
   "outputs": [],
   "source": [
    "##### Calculate days #####\n",
    "# from datetime import datetime\n",
    "# test1 = datetime.strptime('Jun 1, 2005', '%b %d, %Y')\n",
    "# test2 = datetime.strptime('Sep 2, 2006', '%b %d, %Y')\n",
    "# x = test1 - test2\n",
    "# x.days\n",
    "# def convert_to_date(date_str):\n",
    "#     mo, d_y = date_str.split(\" \", 1)\n",
    "#     return mo[0:3] + ' ' + d_y\n",
    "\n",
    "# def range_days(row):\n",
    "#     try:\n",
    "#         start = datetime.strptime(convert_to_date(row[0]), '%b %d, %Y')\n",
    "#         end = datetime.strptime(convert_to_date(row[1]), '%b %d, %Y')\n",
    "#         return (end-start).days\n",
    "#     except:\n",
    "#         return None\n",
    "# d = start_end.apply(range_days, axis = 1)"
   ]
  },
  {
   "cell_type": "code",
   "execution_count": 120,
   "metadata": {},
   "outputs": [],
   "source": [
    "month = {'January': 1,\n",
    "         'February': 2,\n",
    "         'March': 3,\n",
    "         'April': 4,\n",
    "         'May': 5,\n",
    "         'June': 6,\n",
    "         'July': 7,\n",
    "         'August': 8,\n",
    "         'September': 9,\n",
    "         'October': 10,\n",
    "         'November': 11,\n",
    "         'December': 12}\n",
    "\n",
    "def convert_to_month(date_str):\n",
    "    d = date_str.split(\" \")\n",
    "    if len(d) == 2 and d[0] in month:\n",
    "        return [d[0], d[1]]\n",
    "    elif len(d) == 3 and d[0] in month:\n",
    "        return [d[0], d[2]]\n",
    "    else:\n",
    "        return None\n",
    "    \n",
    "def range_month(row):\n",
    "    start = convert_to_month(row[0]) if convert_to_month(row[0]) else None\n",
    "    end = convert_to_month(row[1]) if convert_to_month(row[1]) else None\n",
    "#     if int(end[1]) > 2023:\n",
    "#         print(end[1])\n",
    "    try:\n",
    "        res = (int(end[1])-int(start[1]))*12 + (month[end[0]]-month[start[0]])\n",
    "        return res if res>=0 else None\n",
    "    except:\n",
    "        return None"
   ]
  },
  {
   "cell_type": "code",
   "execution_count": 121,
   "metadata": {
    "scrolled": true
   },
   "outputs": [
    {
     "name": "stdout",
     "output_type": "stream",
     "text": [
      "First 20 month range:\n"
     ]
    },
    {
     "data": {
      "text/plain": [
       "0     18\n",
       "1      1\n",
       "2     11\n",
       "3      8\n",
       "4      6\n",
       "5      6\n",
       "6      3\n",
       "7     14\n",
       "8     11\n",
       "9      4\n",
       "10     7\n",
       "11     4\n",
       "12     3\n",
       "13    36\n",
       "14     9\n",
       "15     7\n",
       "16     6\n",
       "17     5\n",
       "18    12\n",
       "19    12\n",
       "dtype: int64"
      ]
     },
     "execution_count": 121,
     "metadata": {},
     "output_type": "execute_result"
    }
   ],
   "source": [
    "m = start_end.apply(range_month, axis = 1).dropna()\n",
    "print(\"First 20 month range:\")\n",
    "m.head(20)"
   ]
  },
  {
   "cell_type": "code",
   "execution_count": 255,
   "metadata": {},
   "outputs": [
    {
     "name": "stdout",
     "output_type": "stream",
     "text": [
      "Max month\n",
      "956\n",
      "Min month\n",
      "0\n",
      "Avg month\n",
      "11.623\n"
     ]
    }
   ],
   "source": [
    "print(\"Max month\")\n",
    "print(max(m))\n",
    "print(\"Min month\")\n",
    "print(min(m))\n",
    "print(\"Avg month\")\n",
    "print(round(sum(m)/len(m), 3))"
   ]
  },
  {
   "cell_type": "code",
   "execution_count": 146,
   "metadata": {
    "scrolled": true
   },
   "outputs": [
    {
     "data": {
      "image/png": "[encoded data removed]",
      "text/plain": [
       "<Figure size 432x288 with 1 Axes>"
      ]
     },
     "metadata": {
      "needs_background": "light"
     },
     "output_type": "display_data"
    }
   ],
   "source": [
    "import matplotlib.pyplot as plt\n",
    "from matplotlib.pyplot import MultipleLocator\n",
    "%matplotlib inline\n",
    "\n",
    "n, bins, patches = plt.hist(m, bins = 25, range = [0, 48], facecolor='gray', alpha=0.75)\n",
    "plt.xlabel('Months')\n",
    "plt.ylabel('Counts')\n",
    "ax=plt.gca()\n",
    "x_major_locator=MultipleLocator(3)\n",
    "ax.xaxis.set_major_locator(x_major_locator)\n",
    "plt.title('The distribution of the duration of clinical trials.')\n",
    "plt.show()"
   ]
  },
  {
   "cell_type": "markdown",
   "metadata": {},
   "source": [
    "We can see that most of the duration of the clinical trials are less than a year."
   ]
  },
  {
   "cell_type": "markdown",
   "metadata": {},
   "source": [
    "## Next let's move to `Study Designs`"
   ]
  },
  {
   "cell_type": "code",
   "execution_count": 147,
   "metadata": {},
   "outputs": [],
   "source": [
    "study_design = all_data[\"Study Designs\"]"
   ]
  },
  {
   "cell_type": "markdown",
   "metadata": {},
   "source": [
    "Convert and expand the `Study Designs` field into a DataFrame."
   ]
  },
  {
   "cell_type": "code",
   "execution_count": 187,
   "metadata": {},
   "outputs": [],
   "source": [
    "def parse_study_design(row):\n",
    "    try:\n",
    "        dic = {}\n",
    "        row = row.split(\"|\")\n",
    "        for item in row:\n",
    "            item = item.split(\":\")\n",
    "            dic[item[0].strip()] = item[1].strip()\n",
    "        return dic\n",
    "    except:\n",
    "        return None"
   ]
  },
  {
   "cell_type": "code",
   "execution_count": 256,
   "metadata": {},
   "outputs": [
    {
     "data": {
      "text/html": [
       "<div>\n",
       "<style scoped>\n",
       "    .dataframe tbody tr th:only-of-type {\n",
       "        vertical-align: middle;\n",
       "    }\n",
       "\n",
       "    .dataframe tbody tr th {\n",
       "        vertical-align: top;\n",
       "    }\n",
       "\n",
       "    .dataframe thead th {\n",
       "        text-align: right;\n",
       "    }\n",
       "</style>\n",
       "<table border=\"1\" class=\"dataframe\">\n",
       "  <thead>\n",
       "    <tr style=\"text-align: right;\">\n",
       "      <th></th>\n",
       "      <th>Allocation</th>\n",
       "      <th>Intervention Model</th>\n",
       "      <th>Masking</th>\n",
       "      <th>Primary Purpose</th>\n",
       "      <th>Observational Model</th>\n",
       "      <th>Time Perspective</th>\n",
       "    </tr>\n",
       "  </thead>\n",
       "  <tbody>\n",
       "    <tr>\n",
       "      <th>0</th>\n",
       "      <td>Randomized</td>\n",
       "      <td>Single Group Assignment</td>\n",
       "      <td>Triple (Participant, Care Provider, Investigator)</td>\n",
       "      <td>Treatment</td>\n",
       "      <td>NaN</td>\n",
       "      <td>NaN</td>\n",
       "    </tr>\n",
       "    <tr>\n",
       "      <th>1</th>\n",
       "      <td>NaN</td>\n",
       "      <td>NaN</td>\n",
       "      <td>NaN</td>\n",
       "      <td>NaN</td>\n",
       "      <td>Cohort</td>\n",
       "      <td>Prospective</td>\n",
       "    </tr>\n",
       "    <tr>\n",
       "      <th>2</th>\n",
       "      <td>Randomized</td>\n",
       "      <td>Parallel Assignment</td>\n",
       "      <td>Double (Participant, Investigator)</td>\n",
       "      <td>Treatment</td>\n",
       "      <td>NaN</td>\n",
       "      <td>NaN</td>\n",
       "    </tr>\n",
       "    <tr>\n",
       "      <th>3</th>\n",
       "      <td>NaN</td>\n",
       "      <td>NaN</td>\n",
       "      <td>NaN</td>\n",
       "      <td>NaN</td>\n",
       "      <td>Cohort</td>\n",
       "      <td>Prospective</td>\n",
       "    </tr>\n",
       "    <tr>\n",
       "      <th>4</th>\n",
       "      <td>N/A</td>\n",
       "      <td>Single Group Assignment</td>\n",
       "      <td>None (Open Label)</td>\n",
       "      <td>Treatment</td>\n",
       "      <td>NaN</td>\n",
       "      <td>NaN</td>\n",
       "    </tr>\n",
       "    <tr>\n",
       "      <th>5</th>\n",
       "      <td>Randomized</td>\n",
       "      <td>Parallel Assignment</td>\n",
       "      <td>None (Open Label)</td>\n",
       "      <td>Treatment</td>\n",
       "      <td>NaN</td>\n",
       "      <td>NaN</td>\n",
       "    </tr>\n",
       "    <tr>\n",
       "      <th>6</th>\n",
       "      <td>Randomized</td>\n",
       "      <td>Parallel Assignment</td>\n",
       "      <td>Double (Participant, Care Provider)</td>\n",
       "      <td>Treatment</td>\n",
       "      <td>NaN</td>\n",
       "      <td>NaN</td>\n",
       "    </tr>\n",
       "    <tr>\n",
       "      <th>7</th>\n",
       "      <td>Randomized</td>\n",
       "      <td>Parallel Assignment</td>\n",
       "      <td>Triple (Participant, Care Provider, Investigator)</td>\n",
       "      <td>Treatment</td>\n",
       "      <td>NaN</td>\n",
       "      <td>NaN</td>\n",
       "    </tr>\n",
       "    <tr>\n",
       "      <th>8</th>\n",
       "      <td>Randomized</td>\n",
       "      <td>Parallel Assignment</td>\n",
       "      <td>Double (Participant, Investigator)</td>\n",
       "      <td>Treatment</td>\n",
       "      <td>NaN</td>\n",
       "      <td>NaN</td>\n",
       "    </tr>\n",
       "    <tr>\n",
       "      <th>9</th>\n",
       "      <td>Randomized</td>\n",
       "      <td>Parallel Assignment</td>\n",
       "      <td>None (Open Label)</td>\n",
       "      <td>Treatment</td>\n",
       "      <td>NaN</td>\n",
       "      <td>NaN</td>\n",
       "    </tr>\n",
       "  </tbody>\n",
       "</table>\n",
       "</div>"
      ],
      "text/plain": [
       "   Allocation       Intervention Model  \\\n",
       "0  Randomized  Single Group Assignment   \n",
       "1         NaN                      NaN   \n",
       "2  Randomized      Parallel Assignment   \n",
       "3         NaN                      NaN   \n",
       "4         N/A  Single Group Assignment   \n",
       "5  Randomized      Parallel Assignment   \n",
       "6  Randomized      Parallel Assignment   \n",
       "7  Randomized      Parallel Assignment   \n",
       "8  Randomized      Parallel Assignment   \n",
       "9  Randomized      Parallel Assignment   \n",
       "\n",
       "                                             Masking Primary Purpose  \\\n",
       "0  Triple (Participant, Care Provider, Investigator)       Treatment   \n",
       "1                                                NaN             NaN   \n",
       "2                 Double (Participant, Investigator)       Treatment   \n",
       "3                                                NaN             NaN   \n",
       "4                                  None (Open Label)       Treatment   \n",
       "5                                  None (Open Label)       Treatment   \n",
       "6                Double (Participant, Care Provider)       Treatment   \n",
       "7  Triple (Participant, Care Provider, Investigator)       Treatment   \n",
       "8                 Double (Participant, Investigator)       Treatment   \n",
       "9                                  None (Open Label)       Treatment   \n",
       "\n",
       "  Observational Model Time Perspective  \n",
       "0                 NaN              NaN  \n",
       "1              Cohort      Prospective  \n",
       "2                 NaN              NaN  \n",
       "3              Cohort      Prospective  \n",
       "4                 NaN              NaN  \n",
       "5                 NaN              NaN  \n",
       "6                 NaN              NaN  \n",
       "7                 NaN              NaN  \n",
       "8                 NaN              NaN  \n",
       "9                 NaN              NaN  "
      ]
     },
     "execution_count": 256,
     "metadata": {},
     "output_type": "execute_result"
    }
   ],
   "source": [
    "# Test only\n",
    "# df = study_design[0:10].apply(parse_study_design)\n",
    "# df2 = pd.json_normalize(df)\n",
    "# df2\n",
    "df = study_design.apply(parse_study_design).dropna()\n",
    "df = pd.json_normalize(df)\n",
    "df.head(10)"
   ]
  },
  {
   "cell_type": "markdown",
   "metadata": {},
   "source": [
    "We can see that there are 6 sub-level fields inside `Sduty Designs` field, including `Allocation`, `Intervention Model`, `Masking`, `Primary Purpose`, `Observational Model`, `Time Perspective`."
   ]
  },
  {
   "cell_type": "code",
   "execution_count": 206,
   "metadata": {
    "scrolled": true
   },
   "outputs": [
    {
     "name": "stdout",
     "output_type": "stream",
     "text": [
      "<class 'pandas.core.frame.DataFrame'>\n",
      "RangeIndex: 3397 entries, 0 to 3396\n",
      "Data columns (total 6 columns):\n",
      " #   Column               Non-Null Count  Dtype \n",
      "---  ------               --------------  ----- \n",
      " 0   Allocation           1922 non-null   object\n",
      " 1   Intervention Model   1933 non-null   object\n",
      " 2   Masking              1933 non-null   object\n",
      " 3   Primary Purpose      1933 non-null   object\n",
      " 4   Observational Model  1464 non-null   object\n",
      " 5   Time Perspective     1464 non-null   object\n",
      "dtypes: object(6)\n",
      "memory usage: 159.4+ KB\n"
     ]
    }
   ],
   "source": [
    "df.info()"
   ]
  },
  {
   "cell_type": "code",
   "execution_count": 236,
   "metadata": {},
   "outputs": [],
   "source": [
    "# for c in list(df.columns):\n",
    "#     print(\"The details of \" + str(i) + \":\")\n",
    "#     print(df.groupby([c]).size())\n",
    "#     print()"
   ]
  },
  {
   "cell_type": "code",
   "execution_count": 239,
   "metadata": {},
   "outputs": [
    {
     "data": {
      "text/plain": [
       "Allocation\n",
       "N/A                341\n",
       "Non-Randomized     164\n",
       "Randomized        1417\n",
       "dtype: int64"
      ]
     },
     "execution_count": 239,
     "metadata": {},
     "output_type": "execute_result"
    }
   ],
   "source": [
    "df.groupby([\"Allocation\"]).size()"
   ]
  },
  {
   "cell_type": "code",
   "execution_count": 240,
   "metadata": {},
   "outputs": [
    {
     "data": {
      "image/png": "[encoded data removed]",
      "text/plain": [
       "<Figure size 432x288 with 1 Axes>"
      ]
     },
     "metadata": {
      "needs_background": "light"
     },
     "output_type": "display_data"
    }
   ],
   "source": [
    "n, bins, patches = plt.hist(df[\"Allocation\"].dropna(), facecolor='gray', alpha=0.75)\n",
    "plt.xlabel('Allocation')\n",
    "plt.ylabel('Counts')\n",
    "plt.xticks(rotation=90)\n",
    "plt.title('The distribution of Allocation.')\n",
    "plt.show()"
   ]
  },
  {
   "cell_type": "code",
   "execution_count": 241,
   "metadata": {},
   "outputs": [
    {
     "data": {
      "text/plain": [
       "Intervention Model\n",
       "Crossover Assignment         50\n",
       "Factorial Assignment         30\n",
       "Parallel Assignment        1376\n",
       "Sequential Assignment        98\n",
       "Single Group Assignment     379\n",
       "dtype: int64"
      ]
     },
     "execution_count": 241,
     "metadata": {},
     "output_type": "execute_result"
    }
   ],
   "source": [
    "df.groupby([\"Intervention Model\"]).size()"
   ]
  },
  {
   "cell_type": "code",
   "execution_count": 242,
   "metadata": {},
   "outputs": [
    {
     "data": {
      "image/png": "[encoded data removed]",
      "text/plain": [
       "<Figure size 432x288 with 1 Axes>"
      ]
     },
     "metadata": {
      "needs_background": "light"
     },
     "output_type": "display_data"
    }
   ],
   "source": [
    "n, bins, patches = plt.hist(df[\"Intervention Model\"].dropna(), facecolor='gray', alpha=0.75)\n",
    "plt.xlabel('Intervention Model')\n",
    "plt.ylabel('Counts')\n",
    "plt.xticks(rotation=90)\n",
    "plt.title('The distribution of Intervention Model.')\n",
    "plt.show()"
   ]
  },
  {
   "cell_type": "code",
   "execution_count": 243,
   "metadata": {},
   "outputs": [
    {
     "data": {
      "text/plain": [
       "Masking\n",
       "Double (Care Provider, Investigator)                                          1\n",
       "Double (Care Provider, Outcomes Assessor)                                     3\n",
       "Double (Investigator, Outcomes Assessor)                                     22\n",
       "Double (Participant, Care Provider)                                          35\n",
       "Double (Participant, Investigator)                                          143\n",
       "Double (Participant, Outcomes Assessor)                                      26\n",
       "None (Open Label)                                                          1045\n",
       "Quadruple (Participant, Care Provider, Investigator, Outcomes Assessor)     289\n",
       "Single (Care Provider)                                                        5\n",
       "Single (Investigator)                                                        16\n",
       "Single (Outcomes Assessor)                                                  104\n",
       "Single (Participant)                                                         85\n",
       "Triple (Care Provider, Investigator, Outcomes Assessor)                       3\n",
       "Triple (Participant, Care Provider, Investigator)                           104\n",
       "Triple (Participant, Care Provider, Outcomes Assessor)                       14\n",
       "Triple (Participant, Investigator, Outcomes Assessor)                        38\n",
       "dtype: int64"
      ]
     },
     "execution_count": 243,
     "metadata": {},
     "output_type": "execute_result"
    }
   ],
   "source": [
    "df.groupby([\"Masking\"]).size()"
   ]
  },
  {
   "cell_type": "code",
   "execution_count": 244,
   "metadata": {},
   "outputs": [
    {
     "data": {
      "image/png": "[encoded data removed]",
      "text/plain": [
       "<Figure size 432x288 with 1 Axes>"
      ]
     },
     "metadata": {
      "needs_background": "light"
     },
     "output_type": "display_data"
    }
   ],
   "source": [
    "n, bins, patches = plt.hist(df[\"Masking\"].dropna(), facecolor='gray', alpha=0.75)\n",
    "plt.xlabel('Masking')\n",
    "plt.ylabel('Counts')\n",
    "plt.xticks(rotation=90)\n",
    "plt.title('The distribution of Masking.')\n",
    "plt.show()"
   ]
  },
  {
   "cell_type": "code",
   "execution_count": 245,
   "metadata": {},
   "outputs": [
    {
     "data": {
      "text/plain": [
       "Primary Purpose\n",
       "Basic Science                 21\n",
       "Device Feasibility             6\n",
       "Diagnostic                    78\n",
       "Health Services Research      36\n",
       "Other                         88\n",
       "Prevention                   277\n",
       "Screening                     18\n",
       "Supportive Care               86\n",
       "Treatment                   1323\n",
       "dtype: int64"
      ]
     },
     "execution_count": 245,
     "metadata": {},
     "output_type": "execute_result"
    }
   ],
   "source": [
    "df.groupby([\"Primary Purpose\"]).size()"
   ]
  },
  {
   "cell_type": "code",
   "execution_count": 246,
   "metadata": {},
   "outputs": [
    {
     "data": {
      "image/png": "[encoded data removed]",
      "text/plain": [
       "<Figure size 432x288 with 1 Axes>"
      ]
     },
     "metadata": {
      "needs_background": "light"
     },
     "output_type": "display_data"
    }
   ],
   "source": [
    "n, bins, patches = plt.hist(df[\"Primary Purpose\"].dropna(), facecolor='gray', alpha=0.75)\n",
    "plt.xlabel('Primary Purpose')\n",
    "plt.ylabel('Counts')\n",
    "plt.xticks(rotation=90)\n",
    "plt.title('The distribution of Primary Purpose.')\n",
    "plt.show()"
   ]
  },
  {
   "cell_type": "code",
   "execution_count": 247,
   "metadata": {},
   "outputs": [
    {
     "data": {
      "text/plain": [
       "Observational Model\n",
       "Case-Control             139\n",
       "Case-Crossover            13\n",
       "Case-Only                167\n",
       "Cohort                   915\n",
       "Ecologic or Community     56\n",
       "Family-Based               7\n",
       "Other                    167\n",
       "dtype: int64"
      ]
     },
     "execution_count": 247,
     "metadata": {},
     "output_type": "execute_result"
    }
   ],
   "source": [
    "df.groupby([\"Observational Model\"]).size()"
   ]
  },
  {
   "cell_type": "code",
   "execution_count": 248,
   "metadata": {},
   "outputs": [
    {
     "data": {
      "image/png": "[encoded data removed]",
      "text/plain": [
       "<Figure size 432x288 with 1 Axes>"
      ]
     },
     "metadata": {
      "needs_background": "light"
     },
     "output_type": "display_data"
    }
   ],
   "source": [
    "n, bins, patches = plt.hist(df[\"Observational Model\"].dropna(), facecolor='gray', alpha=0.75)\n",
    "plt.xlabel('Observational Model')\n",
    "plt.ylabel('Counts')\n",
    "plt.xticks(rotation=90)\n",
    "plt.title('The distribution of Observational Model.')\n",
    "plt.show()"
   ]
  },
  {
   "cell_type": "code",
   "execution_count": 250,
   "metadata": {
    "scrolled": true
   },
   "outputs": [
    {
     "data": {
      "text/plain": [
       "Time Perspective\n",
       "Cross-Sectional    180\n",
       "Other              109\n",
       "Prospective        901\n",
       "Retrospective      274\n",
       "dtype: int64"
      ]
     },
     "execution_count": 250,
     "metadata": {},
     "output_type": "execute_result"
    }
   ],
   "source": [
    "df.groupby([\"Time Perspective\"]).size()"
   ]
  },
  {
   "cell_type": "code",
   "execution_count": 249,
   "metadata": {},
   "outputs": [
    {
     "data": {
      "image/png": "[encoded data removed]",
      "text/plain": [
       "<Figure size 432x288 with 1 Axes>"
      ]
     },
     "metadata": {
      "needs_background": "light"
     },
     "output_type": "display_data"
    }
   ],
   "source": [
    "n, bins, patches = plt.hist(df[\"Time Perspective\"].dropna(), facecolor='gray', alpha=0.75)\n",
    "plt.xlabel('Time Perspective')\n",
    "plt.ylabel('Counts')\n",
    "plt.xticks(rotation=90)\n",
    "plt.title('The distribution of Time Perspective.')\n",
    "plt.show()"
   ]
  },
  {
   "cell_type": "code",
   "execution_count": null,
   "metadata": {},
   "outputs": [],
   "source": []
  }
 ],
 "metadata": {
  "kernelspec": {
   "display_name": "Python 3",
   "language": "python",
   "name": "python3"
  },
  "language_info": {
   "codemirror_mode": {
    "name": "ipython",
    "version": 3
   },
   "file_extension": ".py",
   "mimetype": "text/x-python",
   "name": "python",
   "nbconvert_exporter": "python",
   "pygments_lexer": "ipython3",
   "version": "3.7.8"
  }
 },
 "nbformat": 4,
 "nbformat_minor": 4
}
