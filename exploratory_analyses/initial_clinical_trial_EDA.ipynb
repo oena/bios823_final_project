{
 "cells": [
  {
   "cell_type": "markdown",
   "metadata": {},
   "source": [
    "# Exploratory Data Analysis \n",
    "## Covid-related trials from clinicaltrials.gov\n",
    "\n",
    "------"
   ]
  },
  {
   "cell_type": "code",
   "execution_count": 1,
   "metadata": {},
   "outputs": [],
   "source": [
    "import pandas as pd\n",
    "import os\n",
    "\n",
    "# Change option so that you can see all column/rownames displayed\n",
    "pd.set_option('display.max_columns', None)\n",
    "pd.set_option('display.max_rows', None)"
   ]
  },
  {
   "cell_type": "code",
   "execution_count": 2,
   "metadata": {},
   "outputs": [],
   "source": [
    "os.chdir(\"/Users/oana/Documents/github/bios823_final_project/\")"
   ]
  },
  {
   "cell_type": "markdown",
   "metadata": {},
   "source": [
    "## Get data \n",
    "\n",
    "- Tried using the clinical_trials package, but it doesn't seem to work  (probably related, it hasn't been updated in a while) \n",
    "- Also tried using API; see below. Through trying out a couple requests, it seems like the API only accepts ~100 requests at a time; however, it doesn't like getting more than 2 requests. There are currently 3300 (ish) COVID-related trials, so not sure how this will work. \n",
    "\n",
    "For now, downloaded data from [here](https://clinicaltrials.gov/ct2/results?cond=COVID-19) with the following fields:\n",
    "- Number of studies: 3370 Found Studies\n",
    "- Select table columns: All available columns\n",
    "- Select file format: Tab-separated values "
   ]
  },
  {
   "cell_type": "code",
   "execution_count": 57,
   "metadata": {
    "scrolled": true
   },
   "outputs": [
    {
     "name": "stdout",
     "output_type": "stream",
     "text": [
      "200\n",
      "200\n",
      "400\n"
     ]
    }
   ],
   "source": [
    "#import requests\n",
    "#import time\n",
    "\n",
    "# N.B. This doesn't work after 3 requests; so just downloaded file from\n",
    "# the relevant URL. \n",
    "\n",
    "#study_list = [] #for saving study info (in json format)\n",
    "\n",
    "#min_rank = 1\n",
    "#for max_rank in range(100,350, 100):\n",
    "#    url = \"https://clinicaltrials.gov/api/query/full_studies?expr=COVID-19&min_rnk=\" \\\n",
    "#        + str(min_rank) + \"&max_rnk=\" + str(max_rank) + \"&fmt=json\"\n",
    "#   r = requests.get(url)\n",
    "#    print(r.status_code)\n",
    "#    study_list.append(data_dict[\"FullStudiesResponse\"][\"FullStudies\"])\n",
    "#    min_rank = min_rank + max_rank\n",
    "#    time.sleep(10)"
   ]
  },
  {
   "cell_type": "code",
   "execution_count": 3,
   "metadata": {},
   "outputs": [],
   "source": [
    "covid_trials_df = pd.read_csv(\"data/covid_studies_092020.tsv\", sep=\"\\t\")"
   ]
  },
  {
   "cell_type": "code",
   "execution_count": 4,
   "metadata": {},
   "outputs": [
    {
     "data": {
      "text/plain": [
       "(3370, 27)"
      ]
     },
     "execution_count": 4,
     "metadata": {},
     "output_type": "execute_result"
    }
   ],
   "source": [
    "covid_trials_df.shape"
   ]
  },
  {
   "cell_type": "code",
   "execution_count": 5,
   "metadata": {},
   "outputs": [
    {
     "data": {
      "text/plain": [
       "Index(['Rank', 'NCT Number', 'Title', 'Acronym', 'Status', 'Study Results',\n",
       "       'Conditions', 'Interventions', 'Outcome Measures',\n",
       "       'Sponsor/Collaborators', 'Gender', 'Age', 'Phases', 'Enrollment',\n",
       "       'Funded Bys', 'Study Type', 'Study Designs', 'Other IDs', 'Start Date',\n",
       "       'Primary Completion Date', 'Completion Date', 'First Posted',\n",
       "       'Results First Posted', 'Last Update Posted', 'Locations',\n",
       "       'Study Documents', 'URL'],\n",
       "      dtype='object')"
      ]
     },
     "execution_count": 5,
     "metadata": {},
     "output_type": "execute_result"
    }
   ],
   "source": [
    "covid_trials_df.columns"
   ]
  },
  {
   "cell_type": "markdown",
   "metadata": {},
   "source": [
    "## Where are trials being held?"
   ]
  },
  {
   "cell_type": "code",
   "execution_count": 20,
   "metadata": {},
   "outputs": [],
   "source": [
    "trial_locations = list(covid_trials_df[\"Locations\"])\n",
    "trial_countries = [str(i).split(\",\")[-1].strip() for i in trial_locations]"
   ]
  },
  {
   "cell_type": "markdown",
   "metadata": {},
   "source": [
    "What countries are represented? "
   ]
  },
  {
   "cell_type": "code",
   "execution_count": 21,
   "metadata": {},
   "outputs": [
    {
     "data": {
      "text/plain": [
       "{'Algeria',\n",
       " 'Argentina',\n",
       " 'Australia',\n",
       " 'Austria',\n",
       " 'Bahrain',\n",
       " 'Bangladesh',\n",
       " 'Belarus',\n",
       " 'Belgium',\n",
       " 'Bosnia and Herzegovina',\n",
       " 'Brazil',\n",
       " 'Burkina Faso',\n",
       " 'Canada',\n",
       " 'Chile',\n",
       " 'China',\n",
       " 'Colombia',\n",
       " 'Costa Rica',\n",
       " 'Croatia',\n",
       " 'Cyprus',\n",
       " 'Czechia',\n",
       " \"Côte D'Ivoire\",\n",
       " 'Denmark',\n",
       " 'Dominican Republic',\n",
       " 'Ecuador',\n",
       " 'Egypt',\n",
       " 'Ethiopia',\n",
       " 'France',\n",
       " 'French Guiana',\n",
       " 'Germany',\n",
       " 'Gibraltar',\n",
       " 'Greece',\n",
       " 'Guinea',\n",
       " 'Guinea-Bissau',\n",
       " 'Honduras',\n",
       " 'Hong Kong',\n",
       " 'Hungary',\n",
       " 'Iceland',\n",
       " 'India',\n",
       " 'Indonesia',\n",
       " 'Iraq',\n",
       " 'Ireland',\n",
       " 'Islamic Republic of',\n",
       " 'Israel',\n",
       " 'Italy',\n",
       " 'Japan',\n",
       " 'Jordan',\n",
       " 'Kazakhstan',\n",
       " 'Kenya',\n",
       " 'Kuwait',\n",
       " 'Lebanon',\n",
       " 'Luxembourg',\n",
       " 'Malaysia',\n",
       " 'Martinique',\n",
       " 'Mexico',\n",
       " 'Monaco',\n",
       " 'Mongolia',\n",
       " 'Netherlands',\n",
       " 'New Zealand',\n",
       " 'Nigeria',\n",
       " 'North Macedonia',\n",
       " 'Norway',\n",
       " 'Pakistan',\n",
       " 'Peru',\n",
       " 'Philippines',\n",
       " 'Poland',\n",
       " 'Portugal',\n",
       " 'Puerto Rico',\n",
       " 'Qatar',\n",
       " 'Republic of',\n",
       " 'Romania',\n",
       " 'Russian Federation',\n",
       " 'Rwanda',\n",
       " 'San Marino',\n",
       " 'Saudi Arabia',\n",
       " 'Senegal',\n",
       " 'Singapore',\n",
       " 'Slovenia',\n",
       " 'South Africa',\n",
       " 'Spain',\n",
       " 'Sudan',\n",
       " 'Sweden',\n",
       " 'Switzerland',\n",
       " 'Taiwan',\n",
       " 'Thailand',\n",
       " 'The Democratic Republic of the',\n",
       " 'Tunisia',\n",
       " 'Turkey',\n",
       " 'Uganda',\n",
       " 'Ukraine',\n",
       " 'United Arab Emirates',\n",
       " 'United Kingdom',\n",
       " 'United States',\n",
       " 'Uruguay',\n",
       " 'Venezuela',\n",
       " 'Vietnam',\n",
       " 'Zambia',\n",
       " 'Zimbabwe',\n",
       " 'nan'}"
      ]
     },
     "execution_count": 21,
     "metadata": {},
     "output_type": "execute_result"
    }
   ],
   "source": [
    "set(trial_countries)"
   ]
  },
  {
   "cell_type": "markdown",
   "metadata": {},
   "source": [
    "How many trials are there in each country? "
   ]
  },
  {
   "cell_type": "code",
   "execution_count": 22,
   "metadata": {},
   "outputs": [],
   "source": [
    "from collections import Counter\n",
    "country_count = Counter(trial_countries)"
   ]
  },
  {
   "cell_type": "code",
   "execution_count": 23,
   "metadata": {},
   "outputs": [
    {
     "data": {
      "text/plain": [
       "Counter({'United States': 671,\n",
       "         'France': 438,\n",
       "         'China': 132,\n",
       "         'Netherlands': 23,\n",
       "         'nan': 459,\n",
       "         'United Kingdom': 166,\n",
       "         'Islamic Republic of': 22,\n",
       "         'Turkey': 93,\n",
       "         'Switzerland': 47,\n",
       "         'Italy': 139,\n",
       "         'Spain': 137,\n",
       "         'Russian Federation': 43,\n",
       "         'Malaysia': 11,\n",
       "         'Colombia': 17,\n",
       "         'Portugal': 5,\n",
       "         'Republic of': 11,\n",
       "         'Puerto Rico': 4,\n",
       "         'Israel': 19,\n",
       "         'Pakistan': 26,\n",
       "         'Mexico': 59,\n",
       "         'Egypt': 126,\n",
       "         'Brazil': 71,\n",
       "         'Peru': 4,\n",
       "         'Saudi Arabia': 20,\n",
       "         'Belgium': 48,\n",
       "         'Canada': 96,\n",
       "         'Singapore': 18,\n",
       "         'Sweden': 34,\n",
       "         'Japan': 5,\n",
       "         'South Africa': 9,\n",
       "         'Indonesia': 7,\n",
       "         'Senegal': 1,\n",
       "         'Argentina': 27,\n",
       "         'Germany': 64,\n",
       "         'India': 31,\n",
       "         'Denmark': 33,\n",
       "         'Australia': 17,\n",
       "         'Poland': 14,\n",
       "         'Hong Kong': 17,\n",
       "         'Jordan': 5,\n",
       "         'Qatar': 8,\n",
       "         'Iceland': 2,\n",
       "         'Ukraine': 5,\n",
       "         'Austria': 16,\n",
       "         'Dominican Republic': 1,\n",
       "         'Bahrain': 3,\n",
       "         'United Arab Emirates': 5,\n",
       "         'Romania': 5,\n",
       "         'Greece': 14,\n",
       "         'Bangladesh': 12,\n",
       "         'Bosnia and Herzegovina': 1,\n",
       "         'Taiwan': 8,\n",
       "         'Slovenia': 2,\n",
       "         'Sudan': 2,\n",
       "         'Monaco': 5,\n",
       "         'Nigeria': 3,\n",
       "         'Costa Rica': 1,\n",
       "         'Chile': 7,\n",
       "         'Norway': 20,\n",
       "         'Vietnam': 3,\n",
       "         'Mongolia': 1,\n",
       "         'Hungary': 6,\n",
       "         'Guinea-Bissau': 2,\n",
       "         'Kuwait': 4,\n",
       "         'Croatia': 1,\n",
       "         'The Democratic Republic of the': 2,\n",
       "         'Zimbabwe': 3,\n",
       "         'Thailand': 3,\n",
       "         'North Macedonia': 2,\n",
       "         'Czechia': 3,\n",
       "         'Ethiopia': 1,\n",
       "         'Kenya': 1,\n",
       "         'Martinique': 3,\n",
       "         'Luxembourg': 3,\n",
       "         \"Côte D'Ivoire\": 1,\n",
       "         'Tunisia': 9,\n",
       "         'Guinea': 2,\n",
       "         'Iraq': 2,\n",
       "         'Ecuador': 3,\n",
       "         'San Marino': 1,\n",
       "         'New Zealand': 2,\n",
       "         'French Guiana': 5,\n",
       "         'Ireland': 3,\n",
       "         'Gibraltar': 1,\n",
       "         'Kazakhstan': 2,\n",
       "         'Uganda': 1,\n",
       "         'Uruguay': 1,\n",
       "         'Rwanda': 1,\n",
       "         'Philippines': 1,\n",
       "         'Belarus': 1,\n",
       "         'Venezuela': 1,\n",
       "         'Lebanon': 1,\n",
       "         'Algeria': 1,\n",
       "         'Burkina Faso': 1,\n",
       "         'Honduras': 1,\n",
       "         'Cyprus': 1,\n",
       "         'Zambia': 1})"
      ]
     },
     "execution_count": 23,
     "metadata": {},
     "output_type": "execute_result"
    }
   ],
   "source": [
    "country_count"
   ]
  },
  {
   "cell_type": "markdown",
   "metadata": {},
   "source": [
    "What are the top 10 countries for trials? "
   ]
  },
  {
   "cell_type": "code",
   "execution_count": 24,
   "metadata": {},
   "outputs": [
    {
     "data": {
      "text/plain": [
       "[('United States', 671),\n",
       " ('nan', 459),\n",
       " ('France', 438),\n",
       " ('United Kingdom', 166),\n",
       " ('Italy', 139),\n",
       " ('Spain', 137),\n",
       " ('China', 132),\n",
       " ('Egypt', 126),\n",
       " ('Canada', 96),\n",
       " ('Turkey', 93)]"
      ]
     },
     "execution_count": 24,
     "metadata": {},
     "output_type": "execute_result"
    }
   ],
   "source": [
    "country_count.most_common(10)"
   ]
  },
  {
   "cell_type": "markdown",
   "metadata": {},
   "source": [
    "Probably not surprisingly, it empirically seems to correspond to many of the countries with the worst covid rates as well. "
   ]
  },
  {
   "cell_type": "markdown",
   "metadata": {},
   "source": [
    "## What drugs/interventions are being studied? "
   ]
  },
  {
   "cell_type": "code",
   "execution_count": 25,
   "metadata": {},
   "outputs": [],
   "source": [
    "interventions = list(covid_trials_df[\"Interventions\"])\n",
    "#trial_countries = [str(i).split(\",\")[-1].strip() for i in trial_locations]"
   ]
  },
  {
   "cell_type": "code",
   "execution_count": 35,
   "metadata": {},
   "outputs": [],
   "source": [
    "split_interventions = [str(i).split(\"|\") for i in interventions]\n",
    "split_interventions = sum(split_interventions, []) #unnest\n",
    "split_interventions = [x for x in split_interventions if str(x) != 'nan'] # remove nans"
   ]
  },
  {
   "cell_type": "code",
   "execution_count": 37,
   "metadata": {},
   "outputs": [
    {
     "data": {
      "text/plain": [
       "[('Drug: Placebo', 225),\n",
       " ('Drug: Hydroxychloroquine', 100),\n",
       " ('Other: Placebo', 89),\n",
       " ('Drug: Azithromycin', 37),\n",
       " ('Biological: Placebo', 30),\n",
       " ('Drug: Tocilizumab', 29),\n",
       " ('Drug: Placebo oral tablet', 29),\n",
       " ('Other: Questionnaire', 24),\n",
       " ('Drug: Ivermectin', 21),\n",
       " ('Other: Standard of Care', 21),\n",
       " ('Drug: Remdesivir', 21),\n",
       " ('Other: No intervention', 21),\n",
       " ('Drug: Favipiravir', 19),\n",
       " ('Biological: Convalescent Plasma', 19),\n",
       " ('Biological: Convalescent plasma', 17),\n",
       " ('Drug: Placebos', 16),\n",
       " ('Other: Survey', 15),\n",
       " ('Drug: Methylprednisolone', 13),\n",
       " ('Other: Standard of care', 13),\n",
       " ('Drug: Enoxaparin', 13)]"
      ]
     },
     "execution_count": 37,
     "metadata": {},
     "output_type": "execute_result"
    }
   ],
   "source": [
    "intervention_count = Counter(split_interventions)\n",
    "intervention_count.most_common(20)"
   ]
  },
  {
   "cell_type": "markdown",
   "metadata": {},
   "source": [
    "Placebo is probably being used as a control. What's the breakdown of drugs vs biologics vs other interventions? "
   ]
  },
  {
   "cell_type": "code",
   "execution_count": 39,
   "metadata": {},
   "outputs": [
    {
     "data": {
      "text/plain": [
       "Counter({'Drug': 1950,\n",
       "         'Procedure': 114,\n",
       "         'Other': 1084,\n",
       "         'Device': 222,\n",
       "         'Biological': 490,\n",
       "         'Diagnostic Test': 386,\n",
       "         'Dietary Supplement': 104,\n",
       "         'Genetic': 14,\n",
       "         'Combination Product': 44,\n",
       "         'Behavioral': 271,\n",
       "         'Radiation': 19})"
      ]
     },
     "execution_count": 39,
     "metadata": {},
     "output_type": "execute_result"
    }
   ],
   "source": [
    "intervention_type = [i.split(\":\")[0] for i in split_interventions]\n",
    "intervention_type_count = Counter(intervention_type)\n",
    "intervention_type_count"
   ]
  },
  {
   "cell_type": "code",
   "execution_count": 50,
   "metadata": {},
   "outputs": [
    {
     "data": {
      "text/plain": [
       "Index(['index', 0], dtype='object')"
      ]
     },
     "execution_count": 50,
     "metadata": {},
     "output_type": "execute_result"
    }
   ],
   "source": [
    "df = pd.DataFrame.from_dict(intervention_type_count, orient='index').reset_index()"
   ]
  },
  {
   "cell_type": "code",
   "execution_count": 52,
   "metadata": {},
   "outputs": [
    {
     "data": {
      "text/plain": [
       "<matplotlib.axes._subplots.AxesSubplot at 0x11c07d250>"
      ]
     },
     "execution_count": 52,
     "metadata": {},
     "output_type": "execute_result"
    },
    {
     "data": {
      "image/png": "[encoded data removed]",
      "text/plain": [
       "<Figure size 432x288 with 1 Axes>"
      ]
     },
     "metadata": {
      "needs_background": "light"
     },
     "output_type": "display_data"
    }
   ],
   "source": [
    "%matplotlib inline\n",
    "df.plot.bar(x=\"index\", y=0)"
   ]
  },
  {
   "cell_type": "markdown",
   "metadata": {},
   "source": [
    "## Who is funding these studies? "
   ]
  },
  {
   "cell_type": "code",
   "execution_count": 58,
   "metadata": {},
   "outputs": [],
   "source": [
    "funder_count = Counter(list(covid_trials_df[\"Funded Bys\"]))\n",
    "funder_count_df =  pd.DataFrame.from_dict(funder_count, orient='index')"
   ]
  },
  {
   "cell_type": "code",
   "execution_count": 60,
   "metadata": {},
   "outputs": [
    {
     "data": {
      "text/plain": [
       "<matplotlib.axes._subplots.AxesSubplot at 0x115ab5090>"
      ]
     },
     "execution_count": 60,
     "metadata": {},
     "output_type": "execute_result"
    },
    {
     "data": {
      "image/png": "[encoded data removed]",
      "text/plain": [
       "<Figure size 432x288 with 1 Axes>"
      ]
     },
     "metadata": {
      "needs_background": "light"
     },
     "output_type": "display_data"
    }
   ],
   "source": [
    "%matplotlib inline\n",
    "funder_count_df.plot.bar()"
   ]
  },
  {
   "cell_type": "markdown",
   "metadata": {},
   "source": [
    "It's hard to see the other categories without \"Other\". Let's remove: "
   ]
  },
  {
   "cell_type": "code",
   "execution_count": 62,
   "metadata": {},
   "outputs": [
    {
     "data": {
      "text/plain": [
       "<matplotlib.axes._subplots.AxesSubplot at 0x11c412910>"
      ]
     },
     "execution_count": 62,
     "metadata": {},
     "output_type": "execute_result"
    },
    {
     "data": {
      "image/png": "[encoded data removed]",
      "text/plain": [
       "<Figure size 432x288 with 1 Axes>"
      ]
     },
     "metadata": {
      "needs_background": "light"
     },
     "output_type": "display_data"
    }
   ],
   "source": [
    "%matplotlib inline\n",
    "funder_count_df.drop(\"Other\", axis=0).plot.bar()"
   ]
  }
 ],
 "metadata": {
  "kernelspec": {
   "display_name": "Python 3",
   "language": "python",
   "name": "python3"
  },
  "language_info": {
   "codemirror_mode": {
    "name": "ipython",
    "version": 3
   },
   "file_extension": ".py",
   "mimetype": "text/x-python",
   "name": "python",
   "nbconvert_exporter": "python",
   "pygments_lexer": "ipython3",
   "version": "3.7.5"
  }
 },
 "nbformat": 4,
 "nbformat_minor": 2
}
